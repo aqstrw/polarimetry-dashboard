{
 "cells": [
  {
   "cell_type": "code",
   "execution_count": 1,
   "metadata": {},
   "outputs": [],
   "source": [
    "import pandas as pd"
   ]
  },
  {
   "cell_type": "code",
   "execution_count": 12,
   "metadata": {},
   "outputs": [
    {
     "data": {
      "text/plain": [
       "MultiIndex([('Offset0',   'obnum'),\n",
       "            ('Offset0',      'q1'),\n",
       "            ('Offset0',      'u1'),\n",
       "            ('Offset0',   'dolp1'),\n",
       "            ('Offset0',  'phi_l1'),\n",
       "            ('Offset0', 'q1prime'),\n",
       "            ('Offset0', 'u1prime'),\n",
       "            ('Offset0',   'errq1'),\n",
       "            ('Offset0',   'erru1'),\n",
       "            ('Offset0',      'q2'),\n",
       "            ...\n",
       "            ('Offset7',   'dolp2'),\n",
       "            ('Offset7',  'phi_l2'),\n",
       "            ('Offset7', 'q2prime'),\n",
       "            ('Offset7', 'u2prime'),\n",
       "            ('Offset7',   'errq2'),\n",
       "            ('Offset7',   'erru2'),\n",
       "            ('Offset7',   'xceno'),\n",
       "            ('Offset7',   'yceno'),\n",
       "            ('Offset7',   'xcene'),\n",
       "            ('Offset7',   'ycene')],\n",
       "           names=[0, 1], length=168)"
      ]
     },
     "execution_count": 12,
     "metadata": {},
     "output_type": "execute_result"
    }
   ],
   "source": [
    "chiplist = [\"CHIP1\",\"CHIP2\"]\n",
    "poslist = [\"POS1\",\"POS2\"]\n",
    "offsetlist = [\"Offset0\",\"Offset1\",\"Offset2\",\"Offset3\",\"Offset4\",\"Offset5\",\"Offset6\",\"Offset7\"]\n",
    "\n",
    "mind = pd.MultiIndex.from_product([offsetlist, ['obnum','q1','u1','dolp1','phi_l1','q1prime','u1prime','errq1','erru1','q2','u2','dolp2','phi_l2','q2prime','u2prime','errq2','erru2','xceno','yceno','xcene','ycene']],\n",
    "                           names=['offset', 'datapoint'])\n",
    "mind_insideout = pd.MultiIndex.from_frame(pd.DataFrame.from_dict(mind.to_frame().reset_index(drop=True).T.reset_index(drop=True).T.to_dict()))\n",
    "mind_insideout"
   ]
  },
  {
   "cell_type": "code",
   "execution_count": null,
   "metadata": {},
   "outputs": [],
   "source": []
  },
  {
   "cell_type": "code",
   "execution_count": 4,
   "metadata": {},
   "outputs": [
    {
     "data": {
      "text/plain": [
       "[False, False, True, False]"
      ]
     },
     "execution_count": 4,
     "metadata": {},
     "output_type": "execute_result"
    }
   ],
   "source": [
    "[kw == 3 for kw in [1,2,3,4]]"
   ]
  },
  {
   "cell_type": "code",
   "execution_count": 5,
   "metadata": {},
   "outputs": [],
   "source": [
    "import numpy as np\n",
    "import pandas as pd\n",
    "import pickle\n",
    "import plotly.express as px\n",
    "import dash_bootstrap_components as dbc\n",
    "import dash\n",
    "from dash import html, dcc, Input, Output, callback, State\n",
    "from astropy.stats import sigma_clipped_stats as scs\n",
    "from dash.exceptions import PreventUpdate\n",
    "import warnings\n",
    "import time\n",
    "from plotly.subplots import make_subplots\n",
    "warnings.filterwarnings(\"ignore\", message = \".*FITS standard.*\")\n",
    "warnings.filterwarnings(\"ignore\", message = \".*RADECSYS.*\")\n",
    "warnings.filterwarnings(\"ignore\", message = \".*invalid value encountered in sqrt.*\")\n",
    "warnings.filterwarnings(\"ignore\", message = \".*Mean of empty slice.*\")\n",
    "warnings.filterwarnings(\"ignore\", message = \".*scalar divide.*\")\n",
    "warnings.filterwarnings(\"ignore\", message = \".*PerformanceWarning.*\")\n",
    "warnings.filterwarnings(\"ignore\", message = \".*DataFrame is highly fragmented.*\")\n",
    "warnings.filterwarnings(\"ignore\", message = \".*Input data contains invalid values.*\")\n",
    "\n",
    "chiplist = [\"CHIP1\",\"CHIP2\"]\n",
    "poslist = [\"POS1\",\"POS2\"]\n",
    "offsetlist = [\"Offset0\",\"Offset1\",\"Offset2\",\"Offset3\",\"Offset4\",\"Offset5\",\"Offset6\",\"Offset7\"]\n",
    "tlist = ['2','2p25','2p5','2p75','3']\n",
    "# with open(\"dict_dfpoldata_rot_2p25.pkl\",'rb') as inp:\n",
    "#     dict_dfpoldata_rot_2p25 = pickle.load(inp)\n",
    "# with open('./df_poldata_2p25_exp_clean_forplotly.pkl','rb') as inp:\n",
    "#     df_poldata_2p25_final = pickle.load(inp)\n",
    "# with open('./binned_stats_forplot.pkl','rb') as inp:\n",
    "#     df_binned_stats_forplot = pickle.load(inp)\n",
    "\n",
    "\n",
    "\n",
    "######################## defs #############################################\n",
    "####################### ROTATE ############################################            \n",
    "def rotate(qutheta,theta_key = 'theta'):\n",
    "    rotated_q,rotated_u = np.around(np.dot(rotmat(qutheta[('across_offsets',theta_key)]),\\\n",
    "                                           qutheta.loc[pd.IndexSlice[:,['q_scm','u_scm']]]),decimals = 10)\n",
    "    return rotated_q,rotated_u\n",
    "def rotmat(theta):\n",
    "    return [[np.cos(2*theta),np.sin(2*theta)],[-np.sin(2*theta),np.cos(2*theta)]]\n",
    "def rotate_exp(df_to_be_rotated,tk = 'theta'):\n",
    "    rotation_mind = pd.MultiIndex.from_product([['across_offsets'],['rotated_q','rotated_u']])\n",
    "    rotateddf = df_to_be_rotated.loc[:,pd.IndexSlice[:,['q_scm','u_scm',tk]]].apply(rotate,axis = 1,result_type = 'expand',**{'theta_key' : tk})\n",
    "    rotateddf.columns = rotation_mind\n",
    "    return rotateddf\n",
    "\n",
    "####################### CLEAN & EXPAND DF #################################\n",
    "def expand_df(combined_df,sig = 2):\n",
    "    # print(sig)\n",
    "\n",
    "    # # combine all positions\n",
    "    # df_combined_frag = pd.concat([pd.concat([combined_df[chip][pos]], keys=[(chip,pos)], names=['CHIP','POS','row_index']) for chip in chiplist for pos in poslist], axis = 0)\n",
    "\n",
    "    # calculate ellipticity,q/u_scm (sub inlau, inlaq) and avg phi_l\n",
    "    combined_df.loc[:,('across_offsets','ellipticity')] = combined_df.loc[:,('across_offsets','b')]/combined_df.loc[:,('across_offsets','a')]\n",
    "\n",
    "    qstats = scs(combined_df.loc[:,pd.IndexSlice[:,['q1','q2']]],axis = 1, sigma = sig)\n",
    "    ustats = scs(combined_df.loc[:,pd.IndexSlice[:,['u1','u2']]],axis = 1, sigma = sig)\n",
    "    combined_df.loc[:,('across_offsets','q_scm')] = qstats[0]\n",
    "    combined_df.loc[:,('across_offsets','u_scm')] = ustats[0]\n",
    "\n",
    "    combined_df.loc[:,('across_offsets','q_scerr')] = qstats[2]\n",
    "    combined_df.loc[:,('across_offsets','u_scerr')] = ustats[2]\n",
    "\n",
    "    combined_df.loc[:,('across_offsets','q_weights')] = 1/(qstats[2]**2)\n",
    "    combined_df.loc[:,('across_offsets','u_weights')] = 1/(ustats[2]**2)\n",
    "\n",
    "    combined_df.loc[:,('across_offsets','avg_phil')] = 0.5 * np.arctan2(combined_df.loc[:,('across_offsets','u_scm')],combined_df.loc[:,('across_offsets','q_scm')])\n",
    "\n",
    "    return combined_df.copy()\n",
    "def droprows_bin(df_to_be_cleaned,stars = True,ellipticity = True,npixthresh = 20,higherror = None):\n",
    "    if stars:\n",
    "        df_to_be_cleaned = df_to_be_cleaned.drop(df_to_be_cleaned[df_to_be_cleaned[('across_offsets','object_type')]=='star'].index,inplace = False)\n",
    "    if higherror is not None:\n",
    "        df_to_be_cleaned = df_to_be_cleaned.drop(df_to_be_cleaned[df_to_be_cleaned[('across_offsets','q_scerr')]>higherror].index,inplace = False)\n",
    "        df_to_be_cleaned = df_to_be_cleaned.drop(df_to_be_cleaned[df_to_be_cleaned[('across_offsets','u_scerr')]>higherror].index,inplace = False)\n",
    "    if ellipticity:\n",
    "        df_to_be_cleaned = df_to_be_cleaned.drop(df_to_be_cleaned[df_to_be_cleaned[('across_offsets','ellipticity')].isnull()].index,inplace = False)\n",
    "    if npixthresh is not None:\n",
    "        df_to_be_cleaned = df_to_be_cleaned.drop(df_to_be_cleaned[df_to_be_cleaned[('across_offsets','npix')]<npixthresh].index,inplace = False)\n",
    "    return df_to_be_cleaned.copy()\n",
    "def add_bins(df_to_be_binned,binsize = 100):\n",
    "    df_to_be_binned = df_to_be_binned.sort_values(('across_offsets','ellipticity'),ascending = False)\n",
    "    df_to_be_binned.loc[:,('across_offsets','ell_bins')] = np.floor(np.arange(df_to_be_binned.shape[0])/binsize).astype(int).astype(str)\n",
    "    return df_to_be_binned.copy()\n",
    "\n",
    "####################### PLOT SUPPORT ######################################\n",
    "def get_rls(cleaned_df, column_name = 'q_scerr'):\n",
    "    # logseries = np.log(cleaned_df[('across_offsets',column_name)]/np.nanmax(cleaned_df[('across_offsets',column_name)]))\n",
    "    logseries = np.log(cleaned_df[column_name]/np.nanmax(cleaned_df[column_name]))\n",
    "    return (logseries/np.nanmin(logseries))\n",
    "\n",
    "####################### WEIGHTED CALCS ####################################\n",
    "def expand_averages(rotated_df_for_exp):\n",
    "    # print(rotated_df_for_exp['across_offsets'])\n",
    "    rotated_df_for_exp.loc[:,('across_offsets','q_x_weights')] = rotated_df_for_exp.loc[:,('across_offsets','rotated_q')]*rotated_df_for_exp.loc[:,('across_offsets','q_weights')]\n",
    "    rotated_df_for_exp.loc[:,('across_offsets','u_x_weights')] = rotated_df_for_exp.loc[:,('across_offsets','rotated_u')]*rotated_df_for_exp.loc[:,('across_offsets','u_weights')]\n",
    "    binned_stats = rotated_df_for_exp['across_offsets'].groupby('ell_bins')[['q_x_weights','q_weights','u_x_weights','u_weights']].sum()\n",
    "    # binned_stats.loc[:,'q_wa'] =binned_stats['q_x_weights']/binned_stats['q_weights']\n",
    "    # binned_stats.loc[:,'u_wa'] =binned_stats['u_x_weights']/binned_stats['u_weights']\n",
    "    binned_stats['q_wa'] =binned_stats['q_x_weights']/binned_stats['q_weights']\n",
    "    binned_stats['u_wa'] =binned_stats['u_x_weights']/binned_stats['u_weights']\n",
    "    rotated_df_for_exp.loc[:,('across_offsets','binavg_q')] = binned_stats['q_wa'].loc[rotated_df_for_exp.loc[:,('across_offsets','ell_bins')].to_numpy()].to_numpy()\n",
    "    rotated_df_for_exp.loc[:,('across_offsets','binavg_u')] = binned_stats['q_wa'].loc[rotated_df_for_exp.loc[:,('across_offsets','ell_bins')].to_numpy()].to_numpy()\n",
    "    rotated_df_for_exp.loc[:,('across_offsets','weighted_q_diff_sq')] = ((rotated_df_for_exp.loc[:,('across_offsets','rotated_q')]-rotated_df_for_exp.loc[:,('across_offsets','binavg_q')])**2)*(rotated_df_for_exp.loc[:,('across_offsets','q_weights')])\n",
    "    rotated_df_for_exp.loc[:,('across_offsets','weighted_u_diff_sq')] = ((rotated_df_for_exp.loc[:,('across_offsets','rotated_u')]-rotated_df_for_exp.loc[:,('across_offsets','binavg_u')])**2)*(rotated_df_for_exp.loc[:,('across_offsets','u_weights')])\n",
    "    binned_stats_err = rotated_df_for_exp['across_offsets'].groupby('ell_bins')[['weighted_q_diff_sq','q_weights','weighted_u_diff_sq','u_weights']].sum()\n",
    "    binned_stats_err['weighted_err_q'] =np.sqrt(binned_stats_err['weighted_q_diff_sq']/binned_stats_err['q_weights'])\n",
    "    binned_stats_err['weighted_err_u'] =np.sqrt(binned_stats_err['weighted_u_diff_sq']/binned_stats_err['u_weights'])\n",
    "    binned_stats['x_center'] = rotated_df_for_exp['across_offsets'].groupby('ell_bins')['ellipticity'].median()\n",
    "    \n",
    "    binned_stats = pd.concat([binned_stats,binned_stats_err[['weighted_err_q','weighted_err_u']]],axis = 1)\n",
    "    \n",
    "    return binned_stats\n",
    "\n",
    "###########################################################################\n",
    "\n",
    "####################### setup init ########################################\n",
    "init_t,init_npix,init_errorthresh,init_bins,init_sigexp,init_tkinput = '2p25',None,None,100,2,'theta'\n",
    "init_df_statedict = {\n",
    "    't':'2p25',\n",
    "    'npix':None,\n",
    "    'errorthresh':None,\n",
    "    'bins':100,\n",
    "    'sigexp':2,\n",
    "    'tk':'theta',\n",
    "}\n",
    "\n",
    "####################### get data ##########################################\n",
    "def calc_scstats_and_avgphil(t,sig_exp):\n",
    "    # get_df\n",
    "    basedf_to_expand = dict_basedf[t]\n",
    "    # create scm columns\n",
    "    exp = expand_df(basedf_to_expand,sig_exp)\n",
    "    return exp\n",
    "def rotate_df(df_exp,tk_input = 'theta'):\n",
    "    # rotate\n",
    "    rotated_qu = rotate_exp(df_exp, tk = tk_input)\n",
    "    df_exp[('across_offsets','rotated_q')],df_exp[('across_offsets','rotated_u')] = \\\n",
    "        rotated_qu[('across_offsets','rotated_q')],rotated_qu[('across_offsets','rotated_u')]\n",
    "    return df_exp\n",
    "def clean_and_bin(exp_df,npix,errorthresh,bins):\n",
    "    # clean and bin\n",
    "    exp_clean = droprows_bin(exp_df, npixthresh=npix, higherror = errorthresh)\n",
    "    # calculate binned stats\n",
    "    binned_exp_clean = add_bins(exp_clean,bins)\n",
    "    binned_stats = expand_averages(binned_exp_clean)\n",
    "    return binned_exp_clean, binned_stats\n",
    "def read_from_store_wrapper(dicts,rows = None,cols = None,levels = 2):\n",
    "    # if dict of dicts, then iterate (in the case of qu dicts)\n",
    "    if levels == 2:\n",
    "        return {k:pd.DataFrame.from_dict(dict_df) for k,dict_df in dicts.items()}\n",
    "    # if multiindex cols and rows, add them to the data\n",
    "    elif levels == 1:\n",
    "        df = pd.DataFrame.from_dict(dicts)\n",
    "        if cols is not None:\n",
    "            df.columns = cols\n",
    "        else:\n",
    "            print(\"columns not added\")\n",
    "        if rows is not None:\n",
    "            df.index = rows\n",
    "        else:\n",
    "            print(\"rows not added\")\n",
    "        return df\n",
    "def jsonify(df):\n",
    "    df_reset = df.reset_index(drop = True).T.reset_index(drop=True).T\n",
    "    return df_reset.to_dict()\n",
    "def get_qudf(c,p,ri,df_reset):\n",
    "    qs = df_reset.loc[(c,p,ri),pd.IndexSlice[:,['q1','q2','errq1','errq2']]].unstack(level = 1)\n",
    "    us = df_reset.loc[(c,p,ri),pd.IndexSlice[:,['u1','u2','erru1','erru2']]].unstack(level = 1)\n",
    "    return {'q':qs, 'u':us}\n",
    "\n",
    "def get_basedf(t_pull):\n",
    "    with open(\"../dict_dfpoldata_rot_\"+t_pull+\".pkl\",'rb') as inp:\n",
    "        basedf = pickle.load(inp)\n",
    "    # combine all positions\n",
    "    df_combined_frag = pd.concat([pd.concat([basedf[chip][pos]], keys=[(chip,pos)], names=['CHIP','POS','row_index'])\\\n",
    "                                  for chip in chiplist for pos in poslist], axis = 0)\n",
    "    return df_combined_frag\n",
    "\n",
    "dict_basedf = {t:get_basedf(t_pull = t) for t in tlist}\n",
    "\n",
    "###################################### Figure Functions ######################################################\n",
    "def make_stats_scatter(c,p,ri,df_reset):\n",
    "    figspread = px.scatter(\n",
    "        df_reset.reset_index(),\n",
    "        x='q_scm',\n",
    "        y ='u_scm',\n",
    "        color='ell_bins',\n",
    "        custom_data=['CHIP','POS','row_index'],\n",
    "        # opacity = get_rls(df_poldata_2p25_exp_clean_forplotly),\n",
    "        height=620,\n",
    "        # width = 620,\n",
    "        )\n",
    "    # figspread.update_layout(xaxis=dict(scaleanchor='y', scaleratio=1))\n",
    "    figspread.layout.xaxis.range = [-0.3,0.3]\n",
    "    figspread.layout.yaxis.range = [-0.3,0.3]\n",
    "    figspread.add_hline(\n",
    "            # x0=0,\n",
    "            y=df_reset.loc[(c,p,ri),'u_scm'],#.iloc[0],\n",
    "            # x1=7,\n",
    "            # y1 = stats[0],\n",
    "            # line=dict(color='Black',dash = 'dash',line_width = 1),\n",
    "            # color='Black',\n",
    "            line_dash = 'solid',\n",
    "            line_width = 0.5,\n",
    "            # xref='x',\n",
    "            # yref='y',\n",
    "        )\n",
    "    figspread.add_vline(\n",
    "            # x0=0,\n",
    "            x=df_reset.loc[(c,p,ri),'q_scm'],#.iloc[0],\n",
    "            # x1=7,\n",
    "            # y1 = stats[0],\n",
    "            # line=dict(color='Black',dash = 'dash',line_width = 1),\n",
    "            # color='Black',\n",
    "            line_dash = 'solid',\n",
    "            line_width = 0.5,\n",
    "            name = 'vline',\n",
    "            # xref='x',\n",
    "            # yref='y',\n",
    "        )\n",
    "\n",
    "    figspread.update_layout(paper_bgcolor='rgba(0,0,0,0)')#,plot_bgcolor='rgba(0,0,0,0)',\n",
    "    figspread.update_layout(legend=dict(\n",
    "        orientation='h',\n",
    "        yanchor=\"bottom\",\n",
    "        y=-0.20,\n",
    "        xanchor=\"left\",\n",
    "        x=-0.05\n",
    "    ))\n",
    "    figspread.update_layout(margin=dict(l=20, r=20, t=20, b=20),)\n",
    "    figspread.update_xaxes(showline=True, linewidth=4, linecolor='purple')\n",
    "    figspread.update_yaxes(showline=True, linewidth=4, linecolor='red')\n",
    "    return figspread\n",
    "def make_individ_stats_fig(qu,c,p,ri,sig,qudf_dict,df_reset):\n",
    "    qudf = qudf_dict[qu]\n",
    "    # print(qudf['Offset0':'Offset7'])\n",
    "    scm = df_reset.loc[(c,p,ri),qu+'_scm']#.iloc[0]\n",
    "    scerr = df_reset.loc[(c,p,ri),qu+'_scerr']#.iloc[0]\n",
    "    # print(scm,scerr)\n",
    "    fig = px.scatter(qudf,\n",
    "        x=offsetlist,\n",
    "        y = qu + '1',\n",
    "        error_y = 'err' + qu + '1',\n",
    "        height = 310,\n",
    "        # labels=dict(y=\"<\"+str(qu)+\">\", color=\"Ellipticity bins\"),\n",
    "    )\n",
    "    # fig1.show()\n",
    "    fig2 = px.scatter(qudf,\n",
    "        x=offsetlist,\n",
    "        y = qu+'2',\n",
    "        error_y = 'err' + qu + '2',\n",
    "        color_discrete_sequence=['red'],\n",
    "        height = 310,\n",
    "        # custom_data=[qu,c,p,ri],\n",
    "        # labels=dict(x=\"Offsets\", y=\"<\"+str(qu)+\">\", color=\"Ellipticity bins\"),\n",
    "    )\n",
    "    if qu == 'u':\n",
    "        fig.update_layout(xaxis_title=\"Offsets\", yaxis_title = \"<\"+str(qu)+\">\")\n",
    "    else:\n",
    "        fig.update_layout(xaxis_title=None, yaxis_title = \"<\"+str(qu)+\">\")\n",
    "    # fig.update()\n",
    "\n",
    "    fig.add_trace(fig2['data'][0])\n",
    "    fig.add_hline(\n",
    "            # x0=0,\n",
    "            y=0,\n",
    "            # x1=7,\n",
    "            # y1 = stats[0],\n",
    "            # line=dict(color='Black',dash = 'dash',line_width = 1),\n",
    "            # color='Black',\n",
    "            line_dash = 'solid',\n",
    "            line_width = 1,\n",
    "            # xref='x',\n",
    "            # yref='y',\n",
    "        )\n",
    "    fig.add_hline(\n",
    "            # x0=0,\n",
    "            y=scm,\n",
    "            # x1=7,\n",
    "            # y1 = stats[0],\n",
    "            line=dict(color='darkgreen',dash = 'solid',),\n",
    "            # color='Black',\n",
    "            # line_dash = 'dashed',\n",
    "            line_width = 0.5,\n",
    "            # xref='x',\n",
    "            # yref='y',\n",
    "        )\n",
    "    fig.add_annotation(\n",
    "        x=6.5,\n",
    "        y=scm,\n",
    "        text = qu+\"_scm = {}\".format(np.around(scm,4)),\n",
    "        # textposition = 'top center',\n",
    "        showarrow=True,\n",
    "        bgcolor = 'green',\n",
    "        font = {'color':'white'},\n",
    "        opacity = 0.5,\n",
    "        xanchor=\"right\",\n",
    "        )\n",
    "    fig.add_hrect(\n",
    "            # x0=0,\n",
    "            y0 = scm-(sig*scerr),\n",
    "            # x1=7,\n",
    "            y1 = scm+(sig*scerr),\n",
    "            # line=dict(color=None,dash = 'dash'),\n",
    "            fillcolor=\"turquoise\",\n",
    "            opacity=0.5,\n",
    "            layer=\"below\",\n",
    "            line_width=0,\n",
    "        )\n",
    "    fig.update_yaxes(range = [scm-(5*scerr),scm+(5*scerr)])\n",
    "    fig.update_layout(paper_bgcolor='rgba(0,0,0,0)') #,plot_bgcolor='rgba(0,0,0,0)',\n",
    "    fig.update_layout(margin=dict(l=20, r=20, t=20, b=20),)\n",
    "    return fig\n",
    "def make_trendplot(df_reset,dfstats):\n",
    "    fig = make_subplots(rows=1, cols=2, shared_yaxes='rows',subplot_titles=(\"rotated_q vs. ellipticity\",\"rotated_u vs. ellipticity\"), horizontal_spacing=0.07)\n",
    "    figq = px.scatter(\n",
    "        df_reset,\n",
    "        x='ellipticity',\n",
    "        y ='rotated_q',\n",
    "        color='ell_bins',\n",
    "        # facet_row='ell_bins',\n",
    "        # opacity = get_rls(df_reset),\n",
    "        # trendline = 'lowess',\n",
    "        # trendline_options = dict(frac=1),\n",
    "        # height=1500,\n",
    "    )\n",
    "    # fig1.show()\n",
    "\n",
    "    figu = px.scatter(\n",
    "        df_reset,\n",
    "        x='ellipticity',\n",
    "        y ='rotated_u',\n",
    "        color='ell_bins',\n",
    "        # title=\"\"\n",
    "        # opacity = get_rls(df_reset),\n",
    "        # trendline = 'lowess',\n",
    "        # trendline_options = dict(frac=1),\n",
    "        # height=50,\n",
    "        # showlegend = False\n",
    "    )\n",
    "\n",
    "    fig_qyerr = px.scatter(dfstats, x=\"x_center\", y=\"q_wa\",error_y=\"weighted_err_q\",color_discrete_sequence = ['black'])\n",
    "    fig_uyerr = px.scatter(dfstats, x=\"x_center\", y=\"u_wa\",error_y=\"weighted_err_u\",color_discrete_sequence = ['black'])\n",
    "\n",
    "    for trace in range(len(figq[\"data\"])):\n",
    "        fig.add_trace(figq[\"data\"][trace], col = 1, row = 1,)\n",
    "    fig.add_trace(fig_qyerr[\"data\"][0], col = 1, row = 1,)\n",
    "\n",
    "    for trace in range(len(figu[\"data\"])):\n",
    "        figu[\"data\"][trace]['showlegend'] = False\n",
    "        fig.add_trace(figu[\"data\"][trace], col = 2, row = 1,)\n",
    "    fig.add_trace(fig_uyerr[\"data\"][0], col = 2, row = 1,)\n",
    "\n",
    "    # for trace in range(len(figspread[\"data\"])):\n",
    "    #     # figspread[\"data\"][trace]['showlegend'] = False\n",
    "    #     fig.add_trace(figspread[\"data\"][trace], col = 1, row = 2,)\n",
    "\n",
    "    fig.update_yaxes(range=[-0.3, 0.3], dtick=0.05,col = 1,row = 1)\n",
    "    fig.update_yaxes(range=[-0.3, 0.3], dtick=0.05,col = 2,row = 1)\n",
    "    fig.update_xaxes(range=[1,0.3], dtick=0.1,col = 1,row = 1)\n",
    "    fig.update_xaxes(range=[1,0.3], dtick=0.1,col = 2,row = 1)\n",
    "    # fig.update_layout(template = \"plotly_dark\")\n",
    "    fig.add_hline(y = 0,col = 1, row = 1)\n",
    "    fig.add_hline(y = 0,col = 2, row = 1)\n",
    "    fig.update_layout(paper_bgcolor='rgba(0,0,0,0)') #,plot_bgcolor='rgba(0,0,0,0)',\n",
    "    fig.update_layout(\n",
    "        margin=dict(l=20, r=20, t=20, b=20),\n",
    "    )\n",
    "    # fig.update_layout(\n",
    "    #     # font_family=\"Courier New\",\n",
    "    #     font_color=\"white\",\n",
    "    #     # title_font_family=\"Times New Roman\",\n",
    "    #     title_font_color=\"white\",\n",
    "    #     legend_title_font_color=\"white\"\n",
    "    # )\n",
    "    # fig.update_layout(title_text=\"polarimetry in the plane of the object\") #height=600, width=900, \n",
    "    return fig\n",
    "\n",
    "###################################### get init datasets #####################################################\n",
    "# tm2 = time.time()\n",
    "init_df_stats = calc_scstats_and_avgphil(init_t,init_sigexp)\n",
    "# tm1 = time.time()\n",
    "# print(\"stats took {} seconds\".format(tm1-tm2))\n",
    "\n",
    "# t0 = time.time()\n",
    "init_df_rotated = rotate_df(init_df_stats,init_tkinput)\n",
    "# t1 = time.time()\n",
    "init_df_filtered, init_df_binned_stats = clean_and_bin(init_df_rotated,init_npix,init_errorthresh,init_bins)\n",
    "# t2 = time.time()\n",
    "# print(\"rotation took {} seconds\".format(t1-t0))\n",
    "# print(\"cleaning and binning took {} seconds\".format(t2-t1))\n",
    "\n",
    "init_chip,init_pos,init_rowindex = init_df_filtered.iloc[0].name\n",
    "init_object_statedict = {\n",
    "    'chip':init_chip,\n",
    "    'pos':init_pos,\n",
    "    'row_index':init_rowindex,\n",
    "}\n",
    "# init_df_statedict = {\n",
    "#     't':init_t,\n",
    "#     'sigexp':init_sigexp,\n",
    "#     'npix':init_npix,\n",
    "#     'errorthresh':init_errorthresh,\n",
    "#     'bins':init_bins,\n",
    "#     'tk':init_tkinput,\n",
    "# }\n",
    "\n",
    "init_rotated_col_names = init_df_rotated.columns\n",
    "init_rotated_row_names = init_df_rotated.index\n",
    "init_filtered_col_names = init_df_filtered.columns\n",
    "init_filtered_row_names = init_df_filtered.index\n",
    "# t5 = time.time()\n",
    "init_qudict = get_qudf(init_chip, init_pos, init_rowindex, init_df_filtered)\n",
    "# t6 = time.time()\n",
    "\n",
    "# print(\"qudicts took {} seconds\".format(t6-t5))\n",
    "\n",
    "# # make init plots\n",
    "init_fig_spread = make_stats_scatter(init_chip, init_pos, init_rowindex, init_df_filtered['across_offsets'])\n",
    "init_fig_rotated = make_trendplot(init_df_filtered['across_offsets'],init_df_binned_stats)\n",
    "init_fig_q = make_individ_stats_fig('q', init_chip, init_pos, init_rowindex, init_sigexp, init_qudict, init_df_filtered['across_offsets'])\n",
    "init_fig_u = make_individ_stats_fig('u', init_chip, init_pos, init_rowindex, init_sigexp, init_qudict, init_df_filtered['across_offsets'])\n",
    "    \n",
    "#################################################\n",
    "###################################################\n",
    "# dash.register_page(__name__, path='/')\n",
    "\n",
    "def serve_layout():\n",
    "    return dbc.Container([\n",
    "        # local stores\n",
    "        # dcc.Store(id = 'global_df_rotated', data = init_df_rotated),\n",
    "        # dcc.Store(id = 'global_rotated_rows', data = init_rotated_row_names),\n",
    "        # dcc.Store(id = 'global_rotated_cols', data = init_rotated_col_names),\n",
    "        # dcc.Store(id = 'global_df_filtered', data = init_df_filtered),\n",
    "        # dcc.Store(id = 'global_filtered_rows', data = init_filtered_row_names),\n",
    "        # dcc.Store(id = 'global_filtered_cols', data = init_filtered_col_names),\n",
    "        # dcc.Store(id = 'global_qudict', data = init_qudict),\n",
    "        # dcc.Store(id = 'global_df_binned', data = init_df_binned_stats),\n",
    "        # dcc.Store(id = 'global_df_statedict', data = init_df_statedict),\n",
    "        # dcc.Store(id = 'global_object_statedict', data = init_object_statedict),\n",
    "\n",
    "        # dcc.Store(id = 'global_df_rotated',),\n",
    "        # dcc.Store(id = 'global_rotated_rows',),\n",
    "        # dcc.Store(id = 'global_rotated_cols',),\n",
    "        # dcc.Store(id = 'global_df_filtered',),\n",
    "        # dcc.Store(id = 'global_filtered_rows',),\n",
    "        # dcc.Store(id = 'global_filtered_cols',),\n",
    "        # dcc.Store(id = 'global_qudict',),\n",
    "        # dcc.Store(id = 'global_df_binned',),\n",
    "        # dcc.Store(id = 'global_df_statedict',),\n",
    "        # dcc.Store(id = 'global_object_statedict',),\n",
    "\n",
    "        # title\n",
    "        dbc.Row([\n",
    "            dbc.Col([\n",
    "                html.H1(\"Object Statistics\",\n",
    "                    style = {'textAlign': 'center'}),\n",
    "            ], width = 12, class_name = \"bg-light border p-2 border-2\"),\n",
    "            \n",
    "        ],class_name= \"m-2 border-0\"),\n",
    "        \n",
    "        # df buttons\n",
    "        dbc.Row([\n",
    "            dbc.Col(['apperture scale: ',\n",
    "                dcc.Dropdown(id='t_input', options = tlist,placeholder = 'scale value for data retireval', value = init_t),\n",
    "            ], width = 2),\n",
    "            dbc.Col([\"sigma: \",\n",
    "                dcc.Dropdown(id='sig_input', options = [1,2,3],placeholder = 'sigma value for sigma clipping', value = init_sigexp),\n",
    "            ], width = 2),\n",
    "            dbc.Col([\"Min pix for object: \",\n",
    "                dcc.Input(id='npix_input', type = 'number', placeholder = 'npix : number or None', debounce = True, required = True, value = init_npix),\n",
    "            ], width = 2),\n",
    "            dbc.Col([\"Maximum error for object: \",\n",
    "                dcc.Input(id='errorthresh_input', type = 'number', placeholder = 'high error threshhold', debounce = True, required = True, value = init_errorthresh),\n",
    "            ], width = 2),\n",
    "            dbc.Col([\"Bin size: \",\n",
    "                dcc.Input(id='bins_input', type = 'number',placeholder = 'Size of each bin', debounce = True, required = True, value = init_bins),\n",
    "            ], width = 2),\n",
    "            dbc.Col(['rotation angle: ',\n",
    "                dcc.Dropdown(id='tk_input', options = ['theta','avg_phil'], placeholder = 'angle used for rotating', value = init_tkinput),\n",
    "            ], width = 1),\n",
    "            dbc.Col([\n",
    "                html.Button('Refresh', id='refresh_button',n_clicks=0),\n",
    "            ], width = 1),\n",
    "        ], style = {'textAlign': 'center'}, class_name= \"bg-light m-2 border-0\"),\n",
    "        \n",
    "        # object plots\n",
    "        dbc.Row([\n",
    "            dbc.Col([\n",
    "                dcc.Graph(figure = init_fig_spread, id='spread',)\n",
    "            ],width = 6, style={'margin':'auto','textAlign':'left',}, className = \"bg-light p-1 m-2 justify-content-end\"), #style = {'display': 'inline-block'} ,\"background-color\": \"cyan\"  'height':'50vh'\n",
    "            dbc.Col([\n",
    "                dbc.Row([\n",
    "                    dcc.Graph(figure = init_fig_q, id='polarimetry_q',)\n",
    "                ],className = \"bg-light border-start border-5 border-info p-1 m-1\"), #style = {'display': 'inline-block'} 'height': '25vh'\n",
    "                dbc.Row([\n",
    "                    dcc.Graph(figure = init_fig_u, id='polarimetry_u',)\n",
    "                ],className = \"bg-light border-start border-5 border-danger p-1 m-1\"), #style = {'display': 'inline-block'} 'height': '25vh'\n",
    "            ],width = 5,class_name = \"gy-0 p-1 m-1 d-inline justify-content-start\"),\n",
    "        ], class_name = \"p-1 m-2 justify-content-center\"),\n",
    "\n",
    "        # object buttons\n",
    "        dbc.Row([\n",
    "            dbc.Col([\n",
    "                dcc.Dropdown(id='chip_input', options = chiplist, placeholder = \"enter object chip\"),\n",
    "            ], width = 3),\n",
    "            dbc.Col([\n",
    "                dcc.Dropdown(id='pos_input', options = poslist, placeholder = \"enter object pos\"),\n",
    "            ], width = 3),\n",
    "            dbc.Col([\n",
    "                dcc.Input(id='row_index_input', type = 'number', placeholder = \"enter object row index\", debounce = True, required = True),\n",
    "            ], width = 3),\n",
    "            dbc.Col([\n",
    "                html.Button('Submit', id='submit_button', n_clicks=0),\n",
    "            ], width = 3),\n",
    "        ],style = {'textAlign': 'center'}),\n",
    "        \n",
    "        # rotated plots\n",
    "        dbc.Row([html.H3([\"POLARIMETRY IN THE PLANE OF THE OBJECT\"], className = \"p-3 border border-4\"),\n",
    "            dcc.Graph(figure = init_fig_rotated, id='rotated_quvsell',style = {'height': '45vh', 'textAlign':'center'})\n",
    "        ],style = {'textAlign':'center'}, class_name = \"bg-light p-0 m-0 gx-2\"), #style = {'display': 'inline-block'}\n",
    "\n",
    "        # test row\n",
    "        dbc.Row(html.Div(\n",
    "            children = \"testing output from clickdata\",\n",
    "            id = 'test')),\n",
    "    ]) #, class_name = \"bg-secondary bg-opacity-25 gx-2\"\n",
    "\n",
    "\n",
    "app = dash.Dash(__name__, external_stylesheets=[dbc.themes.COSMO])\n",
    "\n",
    "app.layout = serve_layout\n",
    "\n",
    "# layout = serve_layout\n",
    "\n",
    "@callback(\n",
    "    # # update figures\n",
    "    Output('polarimetry_q','figure'),\n",
    "    Output('polarimetry_u','figure'),\n",
    "    Output('spread','figure'),\n",
    "    Output('rotated_quvsell','figure'),\n",
    "\n",
    "    # # update stores\n",
    "    Output('global_df_rotated','data'),\n",
    "    Output('global_rotated_rows','data'),\n",
    "    Output('global_rotated_cols','data'),\n",
    "    Output('global_df_filtered','data'),\n",
    "    Output('global_filtered_rows','data'),\n",
    "    Output('global_filtered_cols','data'),\n",
    "    Output('global_qudict','data'),\n",
    "    Output('global_df_binned','data'),\n",
    "    Output('global_df_statedict','data'),\n",
    "    Output('global_object_statedict','data'),\n",
    "\n",
    "    # update dropdowns/inputs\n",
    "    Output('chip_input','value'),\n",
    "    Output('pos_input','value'),\n",
    "    Output('row_index_input','value'),\n",
    "    Output('spread','clickData'),\n",
    "\n",
    "    #######################################\n",
    "    \n",
    "    # get click data\n",
    "    Input('spread','clickData'),\n",
    "    Input('refresh_button', 'n_clicks'),\n",
    "    Input('submit_button', 'n_clicks'),\n",
    "\n",
    "    #######################################\n",
    "\n",
    "    # read df states\n",
    "    State('t_input','value'),\n",
    "    State('sig_input','value'),\n",
    "    State('npix_input','value'),\n",
    "    State('errorthresh_input','value'),\n",
    "    State('bins_input','value'),\n",
    "    State('tk_input','value'),\n",
    "\n",
    "    # read object states\n",
    "    State('chip_input','value'),\n",
    "    State('pos_input','value'),\n",
    "    State('row_index_input','value'),\n",
    "\n",
    "    # read stores\n",
    "    State('global_df_rotated','data'),\n",
    "    State('global_rotated_rows','data'),\n",
    "    State('global_rotated_cols','data'),\n",
    "    State('global_df_filtered','data'),\n",
    "    State('global_filtered_rows','data'),\n",
    "    State('global_filtered_cols','data'),\n",
    "    State('global_qudict','data'),\n",
    "    State('global_df_binned','data'),\n",
    "    State('global_df_statedict','data'),\n",
    "    State('global_object_statedict','data'),\n",
    "\n",
    "    # callback setup\n",
    "    # prevent_initial_call = 'True',\n",
    "    # suppress_callback_exceptions=True,#data_clickcount, \n",
    ")   \n",
    "def update_figs(spread_clickdata,refresh_clicks,submit_clicks,\\\n",
    "                t_input, sig_input, npix_input, errorthresh_input, bins_input, tk_input,\\\n",
    "                chip_input, pos_input, row_index_input,\\\n",
    "                global_df_rotated, global_rotated_rows, global_rotated_cols, global_df_filtered, global_filtered_rows, global_filtered_cols, global_qudict, global_df_binned, global_df_statedict, global_object_statedict):\n",
    "\n",
    "    # conditionals to get all data needed for plots\n",
    "    print(\"triggered by element with id : {}\".format(dash.callback_context.triggered_id))\n",
    "    print(\"triggered: {}\".format(format(dash.callback_context.triggered)))\n",
    "\n",
    "    # firstrun: get df, expand, and plot\n",
    "    if dash.callback_context.triggered_id is None:\n",
    "        print(\"all initial setup is done in the main file\")\n",
    "        raise PreventUpdate\n",
    "        chip_plot,pos_plot,rowindex_plot = chip_input, pos_input, row_index_input\n",
    "\n",
    "    #     # if new filtered df required: get basedf and apply filters\n",
    "    elif (dash.callback_context.triggered_id == 'refresh_button') and (refresh_clicks > 0):\n",
    "        print('refresh clicked',refresh_clicks)#data_clickcount,\n",
    "\n",
    "        # run calcs\n",
    "        df_stats = calc_scstats_and_avgphil(t_input,sig_input)\n",
    "        df_rotated = rotate_df(df_stats,tk_input)\n",
    "        df_filtered, df_binned_stats = clean_and_bin(df_rotated,npix_input,errorthresh_input,bins_input)\n",
    "        chip_plot,pos_plot,rowindex_plot = df_filtered.iloc[0].name\n",
    "        # spread_clickdata_plot = spread_clickdata\n",
    "        qudict = get_qudf(chip_plot, pos_plot, rowindex_plot, df_filtered)\n",
    "\n",
    "        # prep data for store\n",
    "        rotated_col_names = df_rotated.columns\n",
    "        rotated_row_names = df_rotated.index\n",
    "        filtered_col_names = df_filtered.columns\n",
    "        filtered_row_names = df_filtered.index\n",
    "        object_statedict = {\n",
    "            'chip':chip_plot,\n",
    "            'pos':pos_plot,\n",
    "            'row_index':rowindex_plot,\n",
    "        }\n",
    "        df_statedict = {\n",
    "            't':t_input,\n",
    "            'sigexp':sig_input,\n",
    "            'npix':npix_input,\n",
    "            'errorthresh':errorthresh_input,\n",
    "            'bins':bins_input,\n",
    "            'tk':tk_input,\n",
    "        }\n",
    "        dict_df_rotated_reset = jsonify(df_rotated)\n",
    "        dict_df_filtered_reset = jsonify(df_filtered)\n",
    "        dict_qudict = {qu:df.to_dict() for qu,df in qudict.items()}\n",
    "        dict_dfbinned = df_binned_stats.to_dict()\n",
    "\n",
    "        ## make plots\n",
    "        # fig_spread = make_stats_scatter(chip_plot, pos_plot, rowindex_plot, df_filtered['across_offsets'])\n",
    "        # fig_rotated = make_trendplot(df_filtered['across_offsets'],df_binned_stats)\n",
    "        # fig_q = make_individ_stats_fig('q', chip_plot, pos_plot, rowindex_plot, sig_input, qudict, df_filtered['across_offsets'])\n",
    "        # fig_u = make_individ_stats_fig('u', chip_plot, pos_plot, rowindex_plot, sig_input, qudict, df_filtered['across_offsets'])\n",
    "\n",
    "        # object changed via submit\n",
    "    elif (dash.callback_context.triggered_id == 'submit_button') and (submit_clicks > 0):\n",
    "        print('submit clicked',submit_clicks)\n",
    "        # df_poldata_exp_forplot, df_binned_stats_forplot = filter_data(t_input,npix_input,errorthresh_input,bins_input,sig_input,tk_input)\n",
    "        # read filtered data from store\n",
    "        # cols = store_cols\n",
    "        # reset_df_for_store, df_binned_stats_forplot, qudict_for_store = pd.DataFrame.from_dict(store_reset_df),pd.DataFrame.from_dict(store_filtered_data_binned), store_qudict\n",
    "        # reset_df_for_store.columns = store_cols\n",
    "        # input_c, input_p, input_ri = input_chip,input_pos,input_row_index\n",
    "        # qudict_for_store = get_qudf(input_c, input_p, input_ri, reset_df_for_store)\n",
    "        # reflect the submit changes in the clickdata\n",
    "        # spread_clickdata['points'][0]['customdata'] = [input_c, input_p, input_ri]\n",
    "    elif (dash.callback_context.triggered_id == 'spread') and (spread_clickdata is not None):\n",
    "        print('clickdata triggered', spread_clickdata)\n",
    "        # # read filtered data from store\n",
    "        # # cols = store_cols\n",
    "        # # df_poldata_exp_forplot, df_binned_stats_forplot = filter_data(t_input,npix_input,errorthresh_input,bins_input,sig_input,tk_input)\n",
    "        # reset_df_for_store, df_binned_stats_forplot, qudict_for_store = pd.DataFrame.from_dict(store_reset_df),pd.DataFrame.from_dict(store_filtered_data_binned), store_qudict\n",
    "        # reset_df_for_store.columns = store_cols\n",
    "        # input_c, input_p, input_ri = spread_clickdata['points'][0]['customdata']\n",
    "        # qudict_for_store = get_qudf(input_c, input_p, input_ri, reset_df_for_store)\n",
    "        # # print(input_c, input_p, input_ri)\n",
    "    else:\n",
    "        print(\"unknown combination of events\")\n",
    "\n",
    "    # chip_output, pos_output, row_index_output, spread_clickdata_output = chip_plot, pos_plot, rowindex_plot, spread_clickdata_plot\n",
    "\n",
    "    # # make plots\n",
    "    fig_spread = make_stats_scatter(chip_plot, pos_plot, rowindex_plot, df_filtered['across_offsets'])\n",
    "    fig_rotated = make_trendplot(df_filtered['across_offsets'],df_binned_stats)\n",
    "    fig_q = make_individ_stats_fig('q', chip_plot, pos_plot, rowindex_plot, sig_input, qudict, df_filtered['across_offsets'])\n",
    "    fig_u = make_individ_stats_fig('u', chip_plot, pos_plot, rowindex_plot, sig_input, qudict, df_filtered['across_offsets'])\n",
    "\n",
    "    return (fig_q, fig_u, fig_spread, fig_rotated,\\\n",
    "        dict_df_rotated_reset, rotated_col_names, rotated_row_names, dict_df_filtered_reset, filtered_col_names, filtered_row_names, dict_qudict,dict_dfbinned, df_statedict, object_statedict,\\\n",
    "        chip_plot, pos_plot, rowindex_plot, spread_clickdata)\n",
    "\n",
    "\n",
    "# if __name__ == \"__main__\":\n",
    "#     app.run(debug=True, port = 8005)"
   ]
  },
  {
   "cell_type": "code",
   "execution_count": null,
   "metadata": {},
   "outputs": [],
   "source": []
  },
  {
   "cell_type": "code",
   "execution_count": null,
   "metadata": {},
   "outputs": [],
   "source": []
  },
  {
   "cell_type": "code",
   "execution_count": null,
   "metadata": {},
   "outputs": [],
   "source": []
  },
  {
   "cell_type": "code",
   "execution_count": 69,
   "metadata": {},
   "outputs": [
    {
     "data": {
      "application/vnd.plotly.v1+json": {
       "config": {
        "plotlyServerURL": "https://plot.ly"
       },
       "data": [
        {
         "error_y": {
          "array": [
           0.016432254611313615,
           0.01794352316500786,
           0.017074291401403964,
           0.021844651996035126,
           0.019346318169361183,
           0.029171826885235525,
           0.018711226041451208,
           0.02127462846980326
          ]
         },
         "hovertemplate": "x=%{x}<br>u1=%{y}<extra></extra>",
         "legendgroup": "",
         "marker": {
          "color": "#636efa",
          "symbol": "circle"
         },
         "mode": "markers",
         "name": "",
         "orientation": "v",
         "showlegend": false,
         "type": "scatter",
         "x": [
          "Offset0",
          "Offset1",
          "Offset2",
          "Offset3",
          "Offset4",
          "Offset5",
          "Offset6",
          "Offset7"
         ],
         "xaxis": "x",
         "y": [
          0.11887974844482788,
          0.9437621657194079,
          0.13212156660198004,
          0.023211786833111047,
          -0.3840969218765114,
          -0.1537441668990231,
          -2.918420550177425,
          -1.1708891007478652
         ],
         "yaxis": "y"
        },
        {
         "error_y": {
          "array": [
           0.019774451292120666,
           0.01840451732758721,
           0.019231546409139072,
           0.021503660733433128,
           0.015635278535736246,
           0.020114658467994262,
           0.08210567334561372,
           0.016136080301606796
          ]
         },
         "hovertemplate": "x=%{x}<br>u2=%{y}<extra></extra>",
         "legendgroup": "",
         "marker": {
          "color": "red",
          "symbol": "circle"
         },
         "mode": "markers",
         "name": "",
         "orientation": "v",
         "showlegend": false,
         "type": "scatter",
         "x": [
          "Offset0",
          "Offset1",
          "Offset2",
          "Offset3",
          "Offset4",
          "Offset5",
          "Offset6",
          "Offset7"
         ],
         "xaxis": "x",
         "y": [
          0.8146986999320576,
          0.3308508094349961,
          0.3485673763896271,
          0.602151103789473,
          -0.08975034212863638,
          0.16297642636414308,
          -6.477273508723138,
          0.03436644836963325
         ],
         "yaxis": "y"
        }
       ],
       "layout": {
        "annotations": [
         {
          "bgcolor": "green",
          "font": {
           "color": "white"
          },
          "opacity": 0.5,
          "showarrow": true,
          "text": "u_scm = 0.1023",
          "x": 6.5,
          "xanchor": "right",
          "y": 0.10232125775669278
         }
        ],
        "height": 310,
        "legend": {
         "tracegroupgap": 0
        },
        "margin": {
         "b": 20,
         "l": 20,
         "r": 20,
         "t": 20
        },
        "paper_bgcolor": "rgba(0,0,0,0)",
        "shapes": [
         {
          "line": {
           "dash": "solid",
           "width": 1
          },
          "type": "line",
          "x0": 0,
          "x1": 1,
          "xref": "x domain",
          "y0": 0,
          "y1": 0,
          "yref": "y"
         },
         {
          "line": {
           "color": "darkgreen",
           "dash": "solid",
           "width": 0.5
          },
          "type": "line",
          "x0": 0,
          "x1": 1,
          "xref": "x domain",
          "y0": 0.10232125775669278,
          "y1": 0.10232125775669278,
          "yref": "y"
         },
         {
          "fillcolor": "turquoise",
          "layer": "below",
          "line": {
           "width": 0
          },
          "opacity": 0.5,
          "type": "rect",
          "x0": 0,
          "x1": 1,
          "xref": "x domain",
          "y0": -0.40846205676758107,
          "y1": 0.6131045722809666,
          "yref": "y"
         }
        ],
        "template": {
         "data": {
          "bar": [
           {
            "error_x": {
             "color": "#2a3f5f"
            },
            "error_y": {
             "color": "#2a3f5f"
            },
            "marker": {
             "line": {
              "color": "#E5ECF6",
              "width": 0.5
             },
             "pattern": {
              "fillmode": "overlay",
              "size": 10,
              "solidity": 0.2
             }
            },
            "type": "bar"
           }
          ],
          "barpolar": [
           {
            "marker": {
             "line": {
              "color": "#E5ECF6",
              "width": 0.5
             },
             "pattern": {
              "fillmode": "overlay",
              "size": 10,
              "solidity": 0.2
             }
            },
            "type": "barpolar"
           }
          ],
          "carpet": [
           {
            "aaxis": {
             "endlinecolor": "#2a3f5f",
             "gridcolor": "white",
             "linecolor": "white",
             "minorgridcolor": "white",
             "startlinecolor": "#2a3f5f"
            },
            "baxis": {
             "endlinecolor": "#2a3f5f",
             "gridcolor": "white",
             "linecolor": "white",
             "minorgridcolor": "white",
             "startlinecolor": "#2a3f5f"
            },
            "type": "carpet"
           }
          ],
          "choropleth": [
           {
            "colorbar": {
             "outlinewidth": 0,
             "ticks": ""
            },
            "type": "choropleth"
           }
          ],
          "contour": [
           {
            "colorbar": {
             "outlinewidth": 0,
             "ticks": ""
            },
            "colorscale": [
             [
              0,
              "#0d0887"
             ],
             [
              0.1111111111111111,
              "#46039f"
             ],
             [
              0.2222222222222222,
              "#7201a8"
             ],
             [
              0.3333333333333333,
              "#9c179e"
             ],
             [
              0.4444444444444444,
              "#bd3786"
             ],
             [
              0.5555555555555556,
              "#d8576b"
             ],
             [
              0.6666666666666666,
              "#ed7953"
             ],
             [
              0.7777777777777778,
              "#fb9f3a"
             ],
             [
              0.8888888888888888,
              "#fdca26"
             ],
             [
              1,
              "#f0f921"
             ]
            ],
            "type": "contour"
           }
          ],
          "contourcarpet": [
           {
            "colorbar": {
             "outlinewidth": 0,
             "ticks": ""
            },
            "type": "contourcarpet"
           }
          ],
          "heatmap": [
           {
            "colorbar": {
             "outlinewidth": 0,
             "ticks": ""
            },
            "colorscale": [
             [
              0,
              "#0d0887"
             ],
             [
              0.1111111111111111,
              "#46039f"
             ],
             [
              0.2222222222222222,
              "#7201a8"
             ],
             [
              0.3333333333333333,
              "#9c179e"
             ],
             [
              0.4444444444444444,
              "#bd3786"
             ],
             [
              0.5555555555555556,
              "#d8576b"
             ],
             [
              0.6666666666666666,
              "#ed7953"
             ],
             [
              0.7777777777777778,
              "#fb9f3a"
             ],
             [
              0.8888888888888888,
              "#fdca26"
             ],
             [
              1,
              "#f0f921"
             ]
            ],
            "type": "heatmap"
           }
          ],
          "heatmapgl": [
           {
            "colorbar": {
             "outlinewidth": 0,
             "ticks": ""
            },
            "colorscale": [
             [
              0,
              "#0d0887"
             ],
             [
              0.1111111111111111,
              "#46039f"
             ],
             [
              0.2222222222222222,
              "#7201a8"
             ],
             [
              0.3333333333333333,
              "#9c179e"
             ],
             [
              0.4444444444444444,
              "#bd3786"
             ],
             [
              0.5555555555555556,
              "#d8576b"
             ],
             [
              0.6666666666666666,
              "#ed7953"
             ],
             [
              0.7777777777777778,
              "#fb9f3a"
             ],
             [
              0.8888888888888888,
              "#fdca26"
             ],
             [
              1,
              "#f0f921"
             ]
            ],
            "type": "heatmapgl"
           }
          ],
          "histogram": [
           {
            "marker": {
             "pattern": {
              "fillmode": "overlay",
              "size": 10,
              "solidity": 0.2
             }
            },
            "type": "histogram"
           }
          ],
          "histogram2d": [
           {
            "colorbar": {
             "outlinewidth": 0,
             "ticks": ""
            },
            "colorscale": [
             [
              0,
              "#0d0887"
             ],
             [
              0.1111111111111111,
              "#46039f"
             ],
             [
              0.2222222222222222,
              "#7201a8"
             ],
             [
              0.3333333333333333,
              "#9c179e"
             ],
             [
              0.4444444444444444,
              "#bd3786"
             ],
             [
              0.5555555555555556,
              "#d8576b"
             ],
             [
              0.6666666666666666,
              "#ed7953"
             ],
             [
              0.7777777777777778,
              "#fb9f3a"
             ],
             [
              0.8888888888888888,
              "#fdca26"
             ],
             [
              1,
              "#f0f921"
             ]
            ],
            "type": "histogram2d"
           }
          ],
          "histogram2dcontour": [
           {
            "colorbar": {
             "outlinewidth": 0,
             "ticks": ""
            },
            "colorscale": [
             [
              0,
              "#0d0887"
             ],
             [
              0.1111111111111111,
              "#46039f"
             ],
             [
              0.2222222222222222,
              "#7201a8"
             ],
             [
              0.3333333333333333,
              "#9c179e"
             ],
             [
              0.4444444444444444,
              "#bd3786"
             ],
             [
              0.5555555555555556,
              "#d8576b"
             ],
             [
              0.6666666666666666,
              "#ed7953"
             ],
             [
              0.7777777777777778,
              "#fb9f3a"
             ],
             [
              0.8888888888888888,
              "#fdca26"
             ],
             [
              1,
              "#f0f921"
             ]
            ],
            "type": "histogram2dcontour"
           }
          ],
          "mesh3d": [
           {
            "colorbar": {
             "outlinewidth": 0,
             "ticks": ""
            },
            "type": "mesh3d"
           }
          ],
          "parcoords": [
           {
            "line": {
             "colorbar": {
              "outlinewidth": 0,
              "ticks": ""
             }
            },
            "type": "parcoords"
           }
          ],
          "pie": [
           {
            "automargin": true,
            "type": "pie"
           }
          ],
          "scatter": [
           {
            "fillpattern": {
             "fillmode": "overlay",
             "size": 10,
             "solidity": 0.2
            },
            "type": "scatter"
           }
          ],
          "scatter3d": [
           {
            "line": {
             "colorbar": {
              "outlinewidth": 0,
              "ticks": ""
             }
            },
            "marker": {
             "colorbar": {
              "outlinewidth": 0,
              "ticks": ""
             }
            },
            "type": "scatter3d"
           }
          ],
          "scattercarpet": [
           {
            "marker": {
             "colorbar": {
              "outlinewidth": 0,
              "ticks": ""
             }
            },
            "type": "scattercarpet"
           }
          ],
          "scattergeo": [
           {
            "marker": {
             "colorbar": {
              "outlinewidth": 0,
              "ticks": ""
             }
            },
            "type": "scattergeo"
           }
          ],
          "scattergl": [
           {
            "marker": {
             "colorbar": {
              "outlinewidth": 0,
              "ticks": ""
             }
            },
            "type": "scattergl"
           }
          ],
          "scattermapbox": [
           {
            "marker": {
             "colorbar": {
              "outlinewidth": 0,
              "ticks": ""
             }
            },
            "type": "scattermapbox"
           }
          ],
          "scatterpolar": [
           {
            "marker": {
             "colorbar": {
              "outlinewidth": 0,
              "ticks": ""
             }
            },
            "type": "scatterpolar"
           }
          ],
          "scatterpolargl": [
           {
            "marker": {
             "colorbar": {
              "outlinewidth": 0,
              "ticks": ""
             }
            },
            "type": "scatterpolargl"
           }
          ],
          "scatterternary": [
           {
            "marker": {
             "colorbar": {
              "outlinewidth": 0,
              "ticks": ""
             }
            },
            "type": "scatterternary"
           }
          ],
          "surface": [
           {
            "colorbar": {
             "outlinewidth": 0,
             "ticks": ""
            },
            "colorscale": [
             [
              0,
              "#0d0887"
             ],
             [
              0.1111111111111111,
              "#46039f"
             ],
             [
              0.2222222222222222,
              "#7201a8"
             ],
             [
              0.3333333333333333,
              "#9c179e"
             ],
             [
              0.4444444444444444,
              "#bd3786"
             ],
             [
              0.5555555555555556,
              "#d8576b"
             ],
             [
              0.6666666666666666,
              "#ed7953"
             ],
             [
              0.7777777777777778,
              "#fb9f3a"
             ],
             [
              0.8888888888888888,
              "#fdca26"
             ],
             [
              1,
              "#f0f921"
             ]
            ],
            "type": "surface"
           }
          ],
          "table": [
           {
            "cells": {
             "fill": {
              "color": "#EBF0F8"
             },
             "line": {
              "color": "white"
             }
            },
            "header": {
             "fill": {
              "color": "#C8D4E3"
             },
             "line": {
              "color": "white"
             }
            },
            "type": "table"
           }
          ]
         },
         "layout": {
          "annotationdefaults": {
           "arrowcolor": "#2a3f5f",
           "arrowhead": 0,
           "arrowwidth": 1
          },
          "autotypenumbers": "strict",
          "coloraxis": {
           "colorbar": {
            "outlinewidth": 0,
            "ticks": ""
           }
          },
          "colorscale": {
           "diverging": [
            [
             0,
             "#8e0152"
            ],
            [
             0.1,
             "#c51b7d"
            ],
            [
             0.2,
             "#de77ae"
            ],
            [
             0.3,
             "#f1b6da"
            ],
            [
             0.4,
             "#fde0ef"
            ],
            [
             0.5,
             "#f7f7f7"
            ],
            [
             0.6,
             "#e6f5d0"
            ],
            [
             0.7,
             "#b8e186"
            ],
            [
             0.8,
             "#7fbc41"
            ],
            [
             0.9,
             "#4d9221"
            ],
            [
             1,
             "#276419"
            ]
           ],
           "sequential": [
            [
             0,
             "#0d0887"
            ],
            [
             0.1111111111111111,
             "#46039f"
            ],
            [
             0.2222222222222222,
             "#7201a8"
            ],
            [
             0.3333333333333333,
             "#9c179e"
            ],
            [
             0.4444444444444444,
             "#bd3786"
            ],
            [
             0.5555555555555556,
             "#d8576b"
            ],
            [
             0.6666666666666666,
             "#ed7953"
            ],
            [
             0.7777777777777778,
             "#fb9f3a"
            ],
            [
             0.8888888888888888,
             "#fdca26"
            ],
            [
             1,
             "#f0f921"
            ]
           ],
           "sequentialminus": [
            [
             0,
             "#0d0887"
            ],
            [
             0.1111111111111111,
             "#46039f"
            ],
            [
             0.2222222222222222,
             "#7201a8"
            ],
            [
             0.3333333333333333,
             "#9c179e"
            ],
            [
             0.4444444444444444,
             "#bd3786"
            ],
            [
             0.5555555555555556,
             "#d8576b"
            ],
            [
             0.6666666666666666,
             "#ed7953"
            ],
            [
             0.7777777777777778,
             "#fb9f3a"
            ],
            [
             0.8888888888888888,
             "#fdca26"
            ],
            [
             1,
             "#f0f921"
            ]
           ]
          },
          "colorway": [
           "#636efa",
           "#EF553B",
           "#00cc96",
           "#ab63fa",
           "#FFA15A",
           "#19d3f3",
           "#FF6692",
           "#B6E880",
           "#FF97FF",
           "#FECB52"
          ],
          "font": {
           "color": "#2a3f5f"
          },
          "geo": {
           "bgcolor": "white",
           "lakecolor": "white",
           "landcolor": "#E5ECF6",
           "showlakes": true,
           "showland": true,
           "subunitcolor": "white"
          },
          "hoverlabel": {
           "align": "left"
          },
          "hovermode": "closest",
          "mapbox": {
           "style": "light"
          },
          "paper_bgcolor": "white",
          "plot_bgcolor": "#E5ECF6",
          "polar": {
           "angularaxis": {
            "gridcolor": "white",
            "linecolor": "white",
            "ticks": ""
           },
           "bgcolor": "#E5ECF6",
           "radialaxis": {
            "gridcolor": "white",
            "linecolor": "white",
            "ticks": ""
           }
          },
          "scene": {
           "xaxis": {
            "backgroundcolor": "#E5ECF6",
            "gridcolor": "white",
            "gridwidth": 2,
            "linecolor": "white",
            "showbackground": true,
            "ticks": "",
            "zerolinecolor": "white"
           },
           "yaxis": {
            "backgroundcolor": "#E5ECF6",
            "gridcolor": "white",
            "gridwidth": 2,
            "linecolor": "white",
            "showbackground": true,
            "ticks": "",
            "zerolinecolor": "white"
           },
           "zaxis": {
            "backgroundcolor": "#E5ECF6",
            "gridcolor": "white",
            "gridwidth": 2,
            "linecolor": "white",
            "showbackground": true,
            "ticks": "",
            "zerolinecolor": "white"
           }
          },
          "shapedefaults": {
           "line": {
            "color": "#2a3f5f"
           }
          },
          "ternary": {
           "aaxis": {
            "gridcolor": "white",
            "linecolor": "white",
            "ticks": ""
           },
           "baxis": {
            "gridcolor": "white",
            "linecolor": "white",
            "ticks": ""
           },
           "bgcolor": "#E5ECF6",
           "caxis": {
            "gridcolor": "white",
            "linecolor": "white",
            "ticks": ""
           }
          },
          "title": {
           "x": 0.05
          },
          "xaxis": {
           "automargin": true,
           "gridcolor": "white",
           "linecolor": "white",
           "ticks": "",
           "title": {
            "standoff": 15
           },
           "zerolinecolor": "white",
           "zerolinewidth": 2
          },
          "yaxis": {
           "automargin": true,
           "gridcolor": "white",
           "linecolor": "white",
           "ticks": "",
           "title": {
            "standoff": 15
           },
           "zerolinecolor": "white",
           "zerolinewidth": 2
          }
         }
        },
        "xaxis": {
         "anchor": "y",
         "domain": [
          0,
          1
         ],
         "title": {
          "text": "Offsets"
         }
        },
        "yaxis": {
         "anchor": "x",
         "domain": [
          0,
          1
         ],
         "range": [
          -1.1746370285539918,
          1.3792795440673773
         ],
         "title": {
          "text": "<u>"
         }
        }
       }
      }
     },
     "metadata": {},
     "output_type": "display_data"
    }
   ],
   "source": [
    "init_fig_u"
   ]
  },
  {
   "cell_type": "code",
   "execution_count": 53,
   "metadata": {},
   "outputs": [
    {
     "data": {
      "text/html": [
       "<div>\n",
       "<style scoped>\n",
       "    .dataframe tbody tr th:only-of-type {\n",
       "        vertical-align: middle;\n",
       "    }\n",
       "\n",
       "    .dataframe tbody tr th {\n",
       "        vertical-align: top;\n",
       "    }\n",
       "\n",
       "    .dataframe thead th {\n",
       "        text-align: right;\n",
       "    }\n",
       "</style>\n",
       "<table border=\"1\" class=\"dataframe\">\n",
       "  <thead>\n",
       "    <tr style=\"text-align: right;\">\n",
       "      <th></th>\n",
       "      <th>q1</th>\n",
       "      <th>q2</th>\n",
       "      <th>errq1</th>\n",
       "      <th>errq2</th>\n",
       "    </tr>\n",
       "  </thead>\n",
       "  <tbody>\n",
       "    <tr>\n",
       "      <th>Offset0</th>\n",
       "      <td>-4.157504</td>\n",
       "      <td>-0.400206</td>\n",
       "      <td>0.020194</td>\n",
       "      <td>0.017164</td>\n",
       "    </tr>\n",
       "    <tr>\n",
       "      <th>Offset1</th>\n",
       "      <td>-0.480500</td>\n",
       "      <td>0.954961</td>\n",
       "      <td>0.017572</td>\n",
       "      <td>0.018160</td>\n",
       "    </tr>\n",
       "    <tr>\n",
       "      <th>Offset2</th>\n",
       "      <td>1.192368</td>\n",
       "      <td>0.023594</td>\n",
       "      <td>0.016888</td>\n",
       "      <td>0.016820</td>\n",
       "    </tr>\n",
       "    <tr>\n",
       "      <th>Offset3</th>\n",
       "      <td>0.582002</td>\n",
       "      <td>-0.048538</td>\n",
       "      <td>0.017294</td>\n",
       "      <td>0.017640</td>\n",
       "    </tr>\n",
       "    <tr>\n",
       "      <th>Offset4</th>\n",
       "      <td>-1.122746</td>\n",
       "      <td>-0.363033</td>\n",
       "      <td>0.017282</td>\n",
       "      <td>0.017589</td>\n",
       "    </tr>\n",
       "    <tr>\n",
       "      <th>Offset5</th>\n",
       "      <td>0.499179</td>\n",
       "      <td>0.545057</td>\n",
       "      <td>0.021572</td>\n",
       "      <td>0.020046</td>\n",
       "    </tr>\n",
       "    <tr>\n",
       "      <th>Offset6</th>\n",
       "      <td>31.317196</td>\n",
       "      <td>-34.665017</td>\n",
       "      <td>0.026761</td>\n",
       "      <td>0.048636</td>\n",
       "    </tr>\n",
       "    <tr>\n",
       "      <th>Offset7</th>\n",
       "      <td>-0.399385</td>\n",
       "      <td>0.109637</td>\n",
       "      <td>0.021494</td>\n",
       "      <td>0.020380</td>\n",
       "    </tr>\n",
       "  </tbody>\n",
       "</table>\n",
       "</div>"
      ],
      "text/plain": [
       "                q1         q2     errq1     errq2\n",
       "Offset0  -4.157504  -0.400206  0.020194  0.017164\n",
       "Offset1  -0.480500   0.954961  0.017572  0.018160\n",
       "Offset2   1.192368   0.023594  0.016888  0.016820\n",
       "Offset3   0.582002  -0.048538  0.017294  0.017640\n",
       "Offset4  -1.122746  -0.363033  0.017282  0.017589\n",
       "Offset5   0.499179   0.545057  0.021572  0.020046\n",
       "Offset6  31.317196 -34.665017  0.026761  0.048636\n",
       "Offset7  -0.399385   0.109637  0.021494  0.020380"
      ]
     },
     "execution_count": 53,
     "metadata": {},
     "output_type": "execute_result"
    }
   ],
   "source": [
    "init_qudict_for_store['q']"
   ]
  },
  {
   "cell_type": "code",
   "execution_count": 11,
   "metadata": {},
   "outputs": [
    {
     "data": {
      "text/html": [
       "<div>\n",
       "<style scoped>\n",
       "    .dataframe tbody tr th:only-of-type {\n",
       "        vertical-align: middle;\n",
       "    }\n",
       "\n",
       "    .dataframe tbody tr th {\n",
       "        vertical-align: top;\n",
       "    }\n",
       "\n",
       "    .dataframe thead tr th {\n",
       "        text-align: left;\n",
       "    }\n",
       "\n",
       "    .dataframe thead tr:last-of-type th {\n",
       "        text-align: right;\n",
       "    }\n",
       "</style>\n",
       "<table border=\"1\" class=\"dataframe\">\n",
       "  <thead>\n",
       "    <tr>\n",
       "      <th></th>\n",
       "      <th></th>\n",
       "      <th></th>\n",
       "      <th colspan=\"10\" halign=\"left\">Offset0</th>\n",
       "      <th>...</th>\n",
       "      <th colspan=\"10\" halign=\"left\">across_offsets</th>\n",
       "    </tr>\n",
       "    <tr>\n",
       "      <th></th>\n",
       "      <th></th>\n",
       "      <th></th>\n",
       "      <th>obnum</th>\n",
       "      <th>q1</th>\n",
       "      <th>u1</th>\n",
       "      <th>dolp1</th>\n",
       "      <th>phi_l1</th>\n",
       "      <th>q1prime</th>\n",
       "      <th>u1prime</th>\n",
       "      <th>errq1</th>\n",
       "      <th>erru1</th>\n",
       "      <th>q2</th>\n",
       "      <th>...</th>\n",
       "      <th>ellipticity</th>\n",
       "      <th>q_scm</th>\n",
       "      <th>u_scm</th>\n",
       "      <th>q_scerr</th>\n",
       "      <th>u_scerr</th>\n",
       "      <th>q_weights</th>\n",
       "      <th>u_weights</th>\n",
       "      <th>avg_phil</th>\n",
       "      <th>rotated_q</th>\n",
       "      <th>rotated_u</th>\n",
       "    </tr>\n",
       "    <tr>\n",
       "      <th>CHIP</th>\n",
       "      <th>POS</th>\n",
       "      <th>row_index</th>\n",
       "      <th></th>\n",
       "      <th></th>\n",
       "      <th></th>\n",
       "      <th></th>\n",
       "      <th></th>\n",
       "      <th></th>\n",
       "      <th></th>\n",
       "      <th></th>\n",
       "      <th></th>\n",
       "      <th></th>\n",
       "      <th></th>\n",
       "      <th></th>\n",
       "      <th></th>\n",
       "      <th></th>\n",
       "      <th></th>\n",
       "      <th></th>\n",
       "      <th></th>\n",
       "      <th></th>\n",
       "      <th></th>\n",
       "      <th></th>\n",
       "      <th></th>\n",
       "    </tr>\n",
       "  </thead>\n",
       "  <tbody>\n",
       "    <tr>\n",
       "      <th rowspan=\"5\" valign=\"top\">CHIP1</th>\n",
       "      <th rowspan=\"5\" valign=\"top\">POS1</th>\n",
       "      <th>0</th>\n",
       "      <td>45.0</td>\n",
       "      <td>-2.794319</td>\n",
       "      <td>0.157248</td>\n",
       "      <td>2.798740</td>\n",
       "      <td>88.389566</td>\n",
       "      <td>-2.797856</td>\n",
       "      <td>0.070324</td>\n",
       "      <td>0.005060</td>\n",
       "      <td>0.005036</td>\n",
       "      <td>0.020054</td>\n",
       "      <td>...</td>\n",
       "      <td>0.865471</td>\n",
       "      <td>-0.000775</td>\n",
       "      <td>0.012822</td>\n",
       "      <td>0.097486</td>\n",
       "      <td>0.083475</td>\n",
       "      <td>105.224646</td>\n",
       "      <td>143.511918</td>\n",
       "      <td>0.815601</td>\n",
       "      <td>-0.012378</td>\n",
       "      <td>-0.003435</td>\n",
       "    </tr>\n",
       "    <tr>\n",
       "      <th>1</th>\n",
       "      <td>47.0</td>\n",
       "      <td>0.088316</td>\n",
       "      <td>0.375817</td>\n",
       "      <td>0.386055</td>\n",
       "      <td>38.387819</td>\n",
       "      <td>0.081041</td>\n",
       "      <td>0.377453</td>\n",
       "      <td>0.015723</td>\n",
       "      <td>0.017288</td>\n",
       "      <td>-0.340243</td>\n",
       "      <td>...</td>\n",
       "      <td>0.734559</td>\n",
       "      <td>0.058918</td>\n",
       "      <td>0.180512</td>\n",
       "      <td>0.225649</td>\n",
       "      <td>0.237614</td>\n",
       "      <td>19.639608</td>\n",
       "      <td>17.711497</td>\n",
       "      <td>0.627651</td>\n",
       "      <td>-0.135039</td>\n",
       "      <td>0.133494</td>\n",
       "    </tr>\n",
       "    <tr>\n",
       "      <th>2</th>\n",
       "      <td>48.0</td>\n",
       "      <td>-0.104939</td>\n",
       "      <td>0.140672</td>\n",
       "      <td>0.175502</td>\n",
       "      <td>63.361141</td>\n",
       "      <td>-0.109284</td>\n",
       "      <td>0.137324</td>\n",
       "      <td>0.008914</td>\n",
       "      <td>0.008870</td>\n",
       "      <td>0.338893</td>\n",
       "      <td>...</td>\n",
       "      <td>0.780022</td>\n",
       "      <td>-0.000982</td>\n",
       "      <td>0.054737</td>\n",
       "      <td>0.097206</td>\n",
       "      <td>0.065072</td>\n",
       "      <td>105.832020</td>\n",
       "      <td>236.166364</td>\n",
       "      <td>0.794363</td>\n",
       "      <td>-0.053203</td>\n",
       "      <td>-0.012905</td>\n",
       "    </tr>\n",
       "    <tr>\n",
       "      <th>3</th>\n",
       "      <td>50.0</td>\n",
       "      <td>0.044482</td>\n",
       "      <td>0.001429</td>\n",
       "      <td>0.044505</td>\n",
       "      <td>0.920150</td>\n",
       "      <td>0.044496</td>\n",
       "      <td>0.000899</td>\n",
       "      <td>0.004781</td>\n",
       "      <td>0.004779</td>\n",
       "      <td>0.000070</td>\n",
       "      <td>...</td>\n",
       "      <td>0.840948</td>\n",
       "      <td>-0.004490</td>\n",
       "      <td>-0.008444</td>\n",
       "      <td>0.013100</td>\n",
       "      <td>0.029048</td>\n",
       "      <td>5827.240567</td>\n",
       "      <td>1185.104973</td>\n",
       "      <td>-1.029775</td>\n",
       "      <td>-0.008812</td>\n",
       "      <td>-0.003715</td>\n",
       "    </tr>\n",
       "    <tr>\n",
       "      <th>4</th>\n",
       "      <td>51.0</td>\n",
       "      <td>0.066725</td>\n",
       "      <td>0.034592</td>\n",
       "      <td>0.075159</td>\n",
       "      <td>13.701726</td>\n",
       "      <td>0.066796</td>\n",
       "      <td>0.034456</td>\n",
       "      <td>0.005185</td>\n",
       "      <td>0.005267</td>\n",
       "      <td>0.013653</td>\n",
       "      <td>...</td>\n",
       "      <td>0.959569</td>\n",
       "      <td>-0.001197</td>\n",
       "      <td>0.017574</td>\n",
       "      <td>0.043371</td>\n",
       "      <td>0.039512</td>\n",
       "      <td>531.611692</td>\n",
       "      <td>640.547719</td>\n",
       "      <td>0.819403</td>\n",
       "      <td>0.000860</td>\n",
       "      <td>0.017594</td>\n",
       "    </tr>\n",
       "    <tr>\n",
       "      <th>...</th>\n",
       "      <th>...</th>\n",
       "      <th>...</th>\n",
       "      <td>...</td>\n",
       "      <td>...</td>\n",
       "      <td>...</td>\n",
       "      <td>...</td>\n",
       "      <td>...</td>\n",
       "      <td>...</td>\n",
       "      <td>...</td>\n",
       "      <td>...</td>\n",
       "      <td>...</td>\n",
       "      <td>...</td>\n",
       "      <td>...</td>\n",
       "      <td>...</td>\n",
       "      <td>...</td>\n",
       "      <td>...</td>\n",
       "      <td>...</td>\n",
       "      <td>...</td>\n",
       "      <td>...</td>\n",
       "      <td>...</td>\n",
       "      <td>...</td>\n",
       "      <td>...</td>\n",
       "      <td>...</td>\n",
       "    </tr>\n",
       "    <tr>\n",
       "      <th rowspan=\"5\" valign=\"top\">CHIP2</th>\n",
       "      <th rowspan=\"5\" valign=\"top\">POS2</th>\n",
       "      <th>186</th>\n",
       "      <td>NaN</td>\n",
       "      <td>-0.121888</td>\n",
       "      <td>-0.008226</td>\n",
       "      <td>0.122166</td>\n",
       "      <td>-88.069441</td>\n",
       "      <td>-0.122050</td>\n",
       "      <td>-0.005322</td>\n",
       "      <td>0.009285</td>\n",
       "      <td>0.009199</td>\n",
       "      <td>-0.111802</td>\n",
       "      <td>...</td>\n",
       "      <td>0.818433</td>\n",
       "      <td>0.009377</td>\n",
       "      <td>0.013438</td>\n",
       "      <td>0.195680</td>\n",
       "      <td>0.336756</td>\n",
       "      <td>26.115925</td>\n",
       "      <td>8.818004</td>\n",
       "      <td>0.480779</td>\n",
       "      <td>0.015075</td>\n",
       "      <td>-0.006423</td>\n",
       "    </tr>\n",
       "    <tr>\n",
       "      <th>187</th>\n",
       "      <td>NaN</td>\n",
       "      <td>-0.358755</td>\n",
       "      <td>-0.789499</td>\n",
       "      <td>0.867187</td>\n",
       "      <td>-57.218725</td>\n",
       "      <td>-0.358357</td>\n",
       "      <td>-0.789679</td>\n",
       "      <td>0.019381</td>\n",
       "      <td>0.018781</td>\n",
       "      <td>0.394078</td>\n",
       "      <td>...</td>\n",
       "      <td>0.823982</td>\n",
       "      <td>-0.111301</td>\n",
       "      <td>-0.067587</td>\n",
       "      <td>0.371080</td>\n",
       "      <td>0.488143</td>\n",
       "      <td>7.262145</td>\n",
       "      <td>4.196681</td>\n",
       "      <td>-1.297932</td>\n",
       "      <td>-0.109305</td>\n",
       "      <td>-0.070769</td>\n",
       "    </tr>\n",
       "    <tr>\n",
       "      <th>188</th>\n",
       "      <td>NaN</td>\n",
       "      <td>-0.191025</td>\n",
       "      <td>-0.017412</td>\n",
       "      <td>0.191817</td>\n",
       "      <td>-87.395924</td>\n",
       "      <td>-0.189975</td>\n",
       "      <td>-0.026517</td>\n",
       "      <td>NaN</td>\n",
       "      <td>NaN</td>\n",
       "      <td>-2.236779</td>\n",
       "      <td>...</td>\n",
       "      <td>0.651548</td>\n",
       "      <td>-0.226358</td>\n",
       "      <td>0.104653</td>\n",
       "      <td>1.130947</td>\n",
       "      <td>1.120638</td>\n",
       "      <td>0.781836</td>\n",
       "      <td>0.796287</td>\n",
       "      <td>1.354265</td>\n",
       "      <td>0.167069</td>\n",
       "      <td>-0.185144</td>\n",
       "    </tr>\n",
       "    <tr>\n",
       "      <th>189</th>\n",
       "      <td>NaN</td>\n",
       "      <td>2.391850</td>\n",
       "      <td>-0.111639</td>\n",
       "      <td>2.394454</td>\n",
       "      <td>-1.336169</td>\n",
       "      <td>2.394435</td>\n",
       "      <td>0.009520</td>\n",
       "      <td>0.037739</td>\n",
       "      <td>NaN</td>\n",
       "      <td>-1.315168</td>\n",
       "      <td>...</td>\n",
       "      <td>0.628231</td>\n",
       "      <td>-0.023254</td>\n",
       "      <td>0.353621</td>\n",
       "      <td>1.729723</td>\n",
       "      <td>2.299260</td>\n",
       "      <td>0.334231</td>\n",
       "      <td>0.189158</td>\n",
       "      <td>0.818231</td>\n",
       "      <td>-0.061980</td>\n",
       "      <td>-0.348923</td>\n",
       "    </tr>\n",
       "    <tr>\n",
       "      <th>190</th>\n",
       "      <td>NaN</td>\n",
       "      <td>-3.185229</td>\n",
       "      <td>0.619949</td>\n",
       "      <td>3.244999</td>\n",
       "      <td>84.493037</td>\n",
       "      <td>-3.189308</td>\n",
       "      <td>0.598614</td>\n",
       "      <td>NaN</td>\n",
       "      <td>NaN</td>\n",
       "      <td>-0.541802</td>\n",
       "      <td>...</td>\n",
       "      <td>0.612616</td>\n",
       "      <td>-0.380735</td>\n",
       "      <td>-0.310771</td>\n",
       "      <td>3.984233</td>\n",
       "      <td>2.009193</td>\n",
       "      <td>0.062996</td>\n",
       "      <td>0.247718</td>\n",
       "      <td>-1.228514</td>\n",
       "      <td>-0.236782</td>\n",
       "      <td>-0.430665</td>\n",
       "    </tr>\n",
       "  </tbody>\n",
       "</table>\n",
       "<p>896 rows × 183 columns</p>\n",
       "</div>"
      ],
      "text/plain": [
       "                     Offset0                                           \\\n",
       "                       obnum        q1        u1     dolp1     phi_l1   \n",
       "CHIP  POS  row_index                                                    \n",
       "CHIP1 POS1 0            45.0 -2.794319  0.157248  2.798740  88.389566   \n",
       "           1            47.0  0.088316  0.375817  0.386055  38.387819   \n",
       "           2            48.0 -0.104939  0.140672  0.175502  63.361141   \n",
       "           3            50.0  0.044482  0.001429  0.044505   0.920150   \n",
       "           4            51.0  0.066725  0.034592  0.075159  13.701726   \n",
       "...                      ...       ...       ...       ...        ...   \n",
       "CHIP2 POS2 186           NaN -0.121888 -0.008226  0.122166 -88.069441   \n",
       "           187           NaN -0.358755 -0.789499  0.867187 -57.218725   \n",
       "           188           NaN -0.191025 -0.017412  0.191817 -87.395924   \n",
       "           189           NaN  2.391850 -0.111639  2.394454  -1.336169   \n",
       "           190           NaN -3.185229  0.619949  3.244999  84.493037   \n",
       "\n",
       "                                                                        ...  \\\n",
       "                       q1prime   u1prime     errq1     erru1        q2  ...   \n",
       "CHIP  POS  row_index                                                    ...   \n",
       "CHIP1 POS1 0         -2.797856  0.070324  0.005060  0.005036  0.020054  ...   \n",
       "           1          0.081041  0.377453  0.015723  0.017288 -0.340243  ...   \n",
       "           2         -0.109284  0.137324  0.008914  0.008870  0.338893  ...   \n",
       "           3          0.044496  0.000899  0.004781  0.004779  0.000070  ...   \n",
       "           4          0.066796  0.034456  0.005185  0.005267  0.013653  ...   \n",
       "...                        ...       ...       ...       ...       ...  ...   \n",
       "CHIP2 POS2 186       -0.122050 -0.005322  0.009285  0.009199 -0.111802  ...   \n",
       "           187       -0.358357 -0.789679  0.019381  0.018781  0.394078  ...   \n",
       "           188       -0.189975 -0.026517       NaN       NaN -2.236779  ...   \n",
       "           189        2.394435  0.009520  0.037739       NaN -1.315168  ...   \n",
       "           190       -3.189308  0.598614       NaN       NaN -0.541802  ...   \n",
       "\n",
       "                     across_offsets                                          \\\n",
       "                        ellipticity     q_scm     u_scm   q_scerr   u_scerr   \n",
       "CHIP  POS  row_index                                                          \n",
       "CHIP1 POS1 0               0.865471 -0.000775  0.012822  0.097486  0.083475   \n",
       "           1               0.734559  0.058918  0.180512  0.225649  0.237614   \n",
       "           2               0.780022 -0.000982  0.054737  0.097206  0.065072   \n",
       "           3               0.840948 -0.004490 -0.008444  0.013100  0.029048   \n",
       "           4               0.959569 -0.001197  0.017574  0.043371  0.039512   \n",
       "...                             ...       ...       ...       ...       ...   \n",
       "CHIP2 POS2 186             0.818433  0.009377  0.013438  0.195680  0.336756   \n",
       "           187             0.823982 -0.111301 -0.067587  0.371080  0.488143   \n",
       "           188             0.651548 -0.226358  0.104653  1.130947  1.120638   \n",
       "           189             0.628231 -0.023254  0.353621  1.729723  2.299260   \n",
       "           190             0.612616 -0.380735 -0.310771  3.984233  2.009193   \n",
       "\n",
       "                                                                              \n",
       "                        q_weights    u_weights  avg_phil rotated_q rotated_u  \n",
       "CHIP  POS  row_index                                                          \n",
       "CHIP1 POS1 0           105.224646   143.511918  0.815601 -0.012378 -0.003435  \n",
       "           1            19.639608    17.711497  0.627651 -0.135039  0.133494  \n",
       "           2           105.832020   236.166364  0.794363 -0.053203 -0.012905  \n",
       "           3          5827.240567  1185.104973 -1.029775 -0.008812 -0.003715  \n",
       "           4           531.611692   640.547719  0.819403  0.000860  0.017594  \n",
       "...                           ...          ...       ...       ...       ...  \n",
       "CHIP2 POS2 186          26.115925     8.818004  0.480779  0.015075 -0.006423  \n",
       "           187           7.262145     4.196681 -1.297932 -0.109305 -0.070769  \n",
       "           188           0.781836     0.796287  1.354265  0.167069 -0.185144  \n",
       "           189           0.334231     0.189158  0.818231 -0.061980 -0.348923  \n",
       "           190           0.062996     0.247718 -1.228514 -0.236782 -0.430665  \n",
       "\n",
       "[896 rows x 183 columns]"
      ]
     },
     "execution_count": 11,
     "metadata": {},
     "output_type": "execute_result"
    }
   ],
   "source": [
    "init_rotated_df"
   ]
  },
  {
   "cell_type": "code",
   "execution_count": 10,
   "metadata": {},
   "outputs": [
    {
     "data": {
      "text/plain": [
       "549"
      ]
     },
     "execution_count": 10,
     "metadata": {},
     "output_type": "execute_result"
    }
   ],
   "source": [
    "init_df_filtered.index.get_loc(('CHIP2','POS2',int('133')))"
   ]
  },
  {
   "cell_type": "code",
   "execution_count": 15,
   "metadata": {},
   "outputs": [
    {
     "data": {
      "text/html": [
       "<div>\n",
       "<style scoped>\n",
       "    .dataframe tbody tr th:only-of-type {\n",
       "        vertical-align: middle;\n",
       "    }\n",
       "\n",
       "    .dataframe tbody tr th {\n",
       "        vertical-align: top;\n",
       "    }\n",
       "\n",
       "    .dataframe thead th {\n",
       "        text-align: right;\n",
       "    }\n",
       "</style>\n",
       "<table border=\"1\" class=\"dataframe\">\n",
       "  <thead>\n",
       "    <tr style=\"text-align: right;\">\n",
       "      <th></th>\n",
       "      <th>q_x_weights</th>\n",
       "      <th>q_weights</th>\n",
       "      <th>u_x_weights</th>\n",
       "      <th>u_weights</th>\n",
       "      <th>q_wa</th>\n",
       "      <th>u_wa</th>\n",
       "      <th>x_center</th>\n",
       "      <th>weighted_err_q</th>\n",
       "      <th>weighted_err_u</th>\n",
       "    </tr>\n",
       "    <tr>\n",
       "      <th>ell_bins</th>\n",
       "      <th></th>\n",
       "      <th></th>\n",
       "      <th></th>\n",
       "      <th></th>\n",
       "      <th></th>\n",
       "      <th></th>\n",
       "      <th></th>\n",
       "      <th></th>\n",
       "      <th></th>\n",
       "    </tr>\n",
       "  </thead>\n",
       "  <tbody>\n",
       "    <tr>\n",
       "      <th>0</th>\n",
       "      <td>-290.007547</td>\n",
       "      <td>577522.497605</td>\n",
       "      <td>-4367.942703</td>\n",
       "      <td>1.979142e+06</td>\n",
       "      <td>-0.000502</td>\n",
       "      <td>-0.002207</td>\n",
       "      <td>0.917713</td>\n",
       "      <td>0.007322</td>\n",
       "      <td>0.004845</td>\n",
       "    </tr>\n",
       "    <tr>\n",
       "      <th>1</th>\n",
       "      <td>28.497191</td>\n",
       "      <td>74865.096951</td>\n",
       "      <td>275.421091</td>\n",
       "      <td>1.279673e+05</td>\n",
       "      <td>0.000381</td>\n",
       "      <td>0.002152</td>\n",
       "      <td>0.874624</td>\n",
       "      <td>0.020537</td>\n",
       "      <td>0.018594</td>\n",
       "    </tr>\n",
       "    <tr>\n",
       "      <th>2</th>\n",
       "      <td>-35.869245</td>\n",
       "      <td>27145.917551</td>\n",
       "      <td>-171.155186</td>\n",
       "      <td>3.288262e+04</td>\n",
       "      <td>-0.001321</td>\n",
       "      <td>-0.005205</td>\n",
       "      <td>0.842907</td>\n",
       "      <td>0.032378</td>\n",
       "      <td>0.033946</td>\n",
       "    </tr>\n",
       "    <tr>\n",
       "      <th>3</th>\n",
       "      <td>-191.939501</td>\n",
       "      <td>53674.086063</td>\n",
       "      <td>-64.484762</td>\n",
       "      <td>5.109061e+04</td>\n",
       "      <td>-0.003576</td>\n",
       "      <td>-0.001262</td>\n",
       "      <td>0.811870</td>\n",
       "      <td>0.022802</td>\n",
       "      <td>0.028495</td>\n",
       "    </tr>\n",
       "    <tr>\n",
       "      <th>4</th>\n",
       "      <td>-644.473750</td>\n",
       "      <td>194137.553134</td>\n",
       "      <td>-338.814622</td>\n",
       "      <td>4.209649e+05</td>\n",
       "      <td>-0.003320</td>\n",
       "      <td>-0.000805</td>\n",
       "      <td>0.776113</td>\n",
       "      <td>0.015325</td>\n",
       "      <td>0.007443</td>\n",
       "    </tr>\n",
       "    <tr>\n",
       "      <th>5</th>\n",
       "      <td>298.618506</td>\n",
       "      <td>97815.525857</td>\n",
       "      <td>-44.983509</td>\n",
       "      <td>1.369982e+05</td>\n",
       "      <td>0.003053</td>\n",
       "      <td>-0.000328</td>\n",
       "      <td>0.739525</td>\n",
       "      <td>0.018626</td>\n",
       "      <td>0.020149</td>\n",
       "    </tr>\n",
       "    <tr>\n",
       "      <th>6</th>\n",
       "      <td>249.172719</td>\n",
       "      <td>73318.952998</td>\n",
       "      <td>-180.791497</td>\n",
       "      <td>5.046165e+04</td>\n",
       "      <td>0.003398</td>\n",
       "      <td>-0.003583</td>\n",
       "      <td>0.696169</td>\n",
       "      <td>0.015496</td>\n",
       "      <td>0.026145</td>\n",
       "    </tr>\n",
       "    <tr>\n",
       "      <th>7</th>\n",
       "      <td>-323.959167</td>\n",
       "      <td>181422.811628</td>\n",
       "      <td>-409.635946</td>\n",
       "      <td>1.421517e+05</td>\n",
       "      <td>-0.001786</td>\n",
       "      <td>-0.002882</td>\n",
       "      <td>0.634403</td>\n",
       "      <td>0.016161</td>\n",
       "      <td>0.014141</td>\n",
       "    </tr>\n",
       "    <tr>\n",
       "      <th>8</th>\n",
       "      <td>375.556142</td>\n",
       "      <td>44749.078986</td>\n",
       "      <td>-121.493930</td>\n",
       "      <td>6.689954e+04</td>\n",
       "      <td>0.008392</td>\n",
       "      <td>-0.001816</td>\n",
       "      <td>0.487451</td>\n",
       "      <td>0.024049</td>\n",
       "      <td>0.022776</td>\n",
       "    </tr>\n",
       "  </tbody>\n",
       "</table>\n",
       "</div>"
      ],
      "text/plain": [
       "          q_x_weights      q_weights  u_x_weights     u_weights      q_wa  \\\n",
       "ell_bins                                                                    \n",
       "0         -290.007547  577522.497605 -4367.942703  1.979142e+06 -0.000502   \n",
       "1           28.497191   74865.096951   275.421091  1.279673e+05  0.000381   \n",
       "2          -35.869245   27145.917551  -171.155186  3.288262e+04 -0.001321   \n",
       "3         -191.939501   53674.086063   -64.484762  5.109061e+04 -0.003576   \n",
       "4         -644.473750  194137.553134  -338.814622  4.209649e+05 -0.003320   \n",
       "5          298.618506   97815.525857   -44.983509  1.369982e+05  0.003053   \n",
       "6          249.172719   73318.952998  -180.791497  5.046165e+04  0.003398   \n",
       "7         -323.959167  181422.811628  -409.635946  1.421517e+05 -0.001786   \n",
       "8          375.556142   44749.078986  -121.493930  6.689954e+04  0.008392   \n",
       "\n",
       "              u_wa  x_center  weighted_err_q  weighted_err_u  \n",
       "ell_bins                                                      \n",
       "0        -0.002207  0.917713        0.007322        0.004845  \n",
       "1         0.002152  0.874624        0.020537        0.018594  \n",
       "2        -0.005205  0.842907        0.032378        0.033946  \n",
       "3        -0.001262  0.811870        0.022802        0.028495  \n",
       "4        -0.000805  0.776113        0.015325        0.007443  \n",
       "5        -0.000328  0.739525        0.018626        0.020149  \n",
       "6        -0.003583  0.696169        0.015496        0.026145  \n",
       "7        -0.002882  0.634403        0.016161        0.014141  \n",
       "8        -0.001816  0.487451        0.024049        0.022776  "
      ]
     },
     "execution_count": 15,
     "metadata": {},
     "output_type": "execute_result"
    }
   ],
   "source": [
    "df_binned_stats_forplot"
   ]
  },
  {
   "cell_type": "code",
   "execution_count": 39,
   "metadata": {},
   "outputs": [],
   "source": [
    "def read_from_store_wrapper(dicts,rows = None,cols = None,levels = 2):\n",
    "    # if dict of dicts, then iterate (in the case of qu dicts)\n",
    "    if levels == 2:\n",
    "        return {k:pd.DataFrame.from_dict(dict_df) for k,dict_df in dicts.items()}\n",
    "    # if multiindex cols and rows, add them to the data\n",
    "    elif levels == 1:\n",
    "        df = pd.DataFrame.from_dict(dicts)\n",
    "        if cols is not None:\n",
    "            df.columns = cols\n",
    "        else:\n",
    "            print(\"columns not added\")\n",
    "        if rows is not None:\n",
    "            df.index = rows\n",
    "        else:\n",
    "            print(\"rows not added\")\n",
    "        return df"
   ]
  },
  {
   "cell_type": "code",
   "execution_count": 46,
   "metadata": {},
   "outputs": [
    {
     "data": {
      "text/html": [
       "<div>\n",
       "<style scoped>\n",
       "    .dataframe tbody tr th:only-of-type {\n",
       "        vertical-align: middle;\n",
       "    }\n",
       "\n",
       "    .dataframe tbody tr th {\n",
       "        vertical-align: top;\n",
       "    }\n",
       "\n",
       "    .dataframe thead tr th {\n",
       "        text-align: left;\n",
       "    }\n",
       "\n",
       "    .dataframe thead tr:last-of-type th {\n",
       "        text-align: right;\n",
       "    }\n",
       "</style>\n",
       "<table border=\"1\" class=\"dataframe\">\n",
       "  <thead>\n",
       "    <tr>\n",
       "      <th></th>\n",
       "      <th></th>\n",
       "      <th></th>\n",
       "      <th colspan=\"10\" halign=\"left\">Offset0</th>\n",
       "      <th>...</th>\n",
       "      <th colspan=\"10\" halign=\"left\">across_offsets</th>\n",
       "    </tr>\n",
       "    <tr>\n",
       "      <th></th>\n",
       "      <th></th>\n",
       "      <th></th>\n",
       "      <th>obnum</th>\n",
       "      <th>q1</th>\n",
       "      <th>u1</th>\n",
       "      <th>dolp1</th>\n",
       "      <th>phi_l1</th>\n",
       "      <th>q1prime</th>\n",
       "      <th>u1prime</th>\n",
       "      <th>errq1</th>\n",
       "      <th>erru1</th>\n",
       "      <th>q2</th>\n",
       "      <th>...</th>\n",
       "      <th>avg_phil</th>\n",
       "      <th>rotated_q</th>\n",
       "      <th>rotated_u</th>\n",
       "      <th>ell_bins</th>\n",
       "      <th>q_x_weights</th>\n",
       "      <th>u_x_weights</th>\n",
       "      <th>binavg_q</th>\n",
       "      <th>binavg_u</th>\n",
       "      <th>weighted_q_diff_sq</th>\n",
       "      <th>weighted_u_diff_sq</th>\n",
       "    </tr>\n",
       "    <tr>\n",
       "      <th>CHIP</th>\n",
       "      <th>POS</th>\n",
       "      <th>row_index</th>\n",
       "      <th></th>\n",
       "      <th></th>\n",
       "      <th></th>\n",
       "      <th></th>\n",
       "      <th></th>\n",
       "      <th></th>\n",
       "      <th></th>\n",
       "      <th></th>\n",
       "      <th></th>\n",
       "      <th></th>\n",
       "      <th></th>\n",
       "      <th></th>\n",
       "      <th></th>\n",
       "      <th></th>\n",
       "      <th></th>\n",
       "      <th></th>\n",
       "      <th></th>\n",
       "      <th></th>\n",
       "      <th></th>\n",
       "      <th></th>\n",
       "      <th></th>\n",
       "    </tr>\n",
       "  </thead>\n",
       "  <tbody>\n",
       "    <tr>\n",
       "      <th rowspan=\"7\" valign=\"top\">CHIP1</th>\n",
       "      <th>POS2</th>\n",
       "      <th>197</th>\n",
       "      <td>NaN</td>\n",
       "      <td>-4.157504</td>\n",
       "      <td>0.118880</td>\n",
       "      <td>4.159203</td>\n",
       "      <td>89.181065</td>\n",
       "      <td>-4.156860</td>\n",
       "      <td>0.139599</td>\n",
       "      <td>0.020194</td>\n",
       "      <td>0.016432</td>\n",
       "      <td>-0.400206</td>\n",
       "      <td>...</td>\n",
       "      <td>0.441620</td>\n",
       "      <td>0.109451</td>\n",
       "      <td>0.074506</td>\n",
       "      <td>0</td>\n",
       "      <td>0.279830</td>\n",
       "      <td>1.142298</td>\n",
       "      <td>-0.000502</td>\n",
       "      <td>-0.000502</td>\n",
       "      <td>0.030909</td>\n",
       "      <td>0.086260</td>\n",
       "    </tr>\n",
       "    <tr>\n",
       "      <th>POS1</th>\n",
       "      <th>164</th>\n",
       "      <td>364.0</td>\n",
       "      <td>-0.003346</td>\n",
       "      <td>-0.008322</td>\n",
       "      <td>0.008970</td>\n",
       "      <td>-55.952098</td>\n",
       "      <td>-0.003466</td>\n",
       "      <td>-0.008273</td>\n",
       "      <td>0.001773</td>\n",
       "      <td>0.001771</td>\n",
       "      <td>-0.002933</td>\n",
       "      <td>...</td>\n",
       "      <td>1.348854</td>\n",
       "      <td>-0.000534</td>\n",
       "      <td>0.001728</td>\n",
       "      <td>0</td>\n",
       "      <td>-28.517755</td>\n",
       "      <td>38.548977</td>\n",
       "      <td>-0.000502</td>\n",
       "      <td>-0.000502</td>\n",
       "      <td>0.000055</td>\n",
       "      <td>0.110960</td>\n",
       "    </tr>\n",
       "    <tr>\n",
       "      <th rowspan=\"2\" valign=\"top\">POS2</th>\n",
       "      <th>96</th>\n",
       "      <td>233.0</td>\n",
       "      <td>0.003616</td>\n",
       "      <td>0.003155</td>\n",
       "      <td>0.004798</td>\n",
       "      <td>20.551589</td>\n",
       "      <td>0.003618</td>\n",
       "      <td>0.003152</td>\n",
       "      <td>0.001466</td>\n",
       "      <td>0.001469</td>\n",
       "      <td>0.002537</td>\n",
       "      <td>...</td>\n",
       "      <td>0.931377</td>\n",
       "      <td>-0.000722</td>\n",
       "      <td>0.002811</td>\n",
       "      <td>0</td>\n",
       "      <td>-48.149906</td>\n",
       "      <td>293.878244</td>\n",
       "      <td>-0.000502</td>\n",
       "      <td>-0.000502</td>\n",
       "      <td>0.003220</td>\n",
       "      <td>1.147639</td>\n",
       "    </tr>\n",
       "    <tr>\n",
       "      <th>93</th>\n",
       "      <td>230.0</td>\n",
       "      <td>0.008567</td>\n",
       "      <td>0.007817</td>\n",
       "      <td>0.011598</td>\n",
       "      <td>21.189749</td>\n",
       "      <td>0.008705</td>\n",
       "      <td>0.007664</td>\n",
       "      <td>0.000370</td>\n",
       "      <td>0.000363</td>\n",
       "      <td>-0.004920</td>\n",
       "      <td>...</td>\n",
       "      <td>-0.072418</td>\n",
       "      <td>0.001245</td>\n",
       "      <td>-0.002900</td>\n",
       "      <td>0</td>\n",
       "      <td>95.536068</td>\n",
       "      <td>-3953.186827</td>\n",
       "      <td>-0.000502</td>\n",
       "      <td>-0.000502</td>\n",
       "      <td>0.234227</td>\n",
       "      <td>7.838943</td>\n",
       "    </tr>\n",
       "    <tr>\n",
       "      <th>POS1</th>\n",
       "      <th>192</th>\n",
       "      <td>426.0</td>\n",
       "      <td>-0.006650</td>\n",
       "      <td>0.003108</td>\n",
       "      <td>0.007341</td>\n",
       "      <td>77.473077</td>\n",
       "      <td>-0.006629</td>\n",
       "      <td>0.003152</td>\n",
       "      <td>0.003236</td>\n",
       "      <td>0.003264</td>\n",
       "      <td>0.014927</td>\n",
       "      <td>...</td>\n",
       "      <td>0.817159</td>\n",
       "      <td>0.000537</td>\n",
       "      <td>0.001656</td>\n",
       "      <td>0</td>\n",
       "      <td>1.690906</td>\n",
       "      <td>8.544007</td>\n",
       "      <td>-0.000502</td>\n",
       "      <td>-0.000502</td>\n",
       "      <td>0.003400</td>\n",
       "      <td>0.024028</td>\n",
       "    </tr>\n",
       "    <tr>\n",
       "      <th>...</th>\n",
       "      <th>...</th>\n",
       "      <td>...</td>\n",
       "      <td>...</td>\n",
       "      <td>...</td>\n",
       "      <td>...</td>\n",
       "      <td>...</td>\n",
       "      <td>...</td>\n",
       "      <td>...</td>\n",
       "      <td>...</td>\n",
       "      <td>...</td>\n",
       "      <td>...</td>\n",
       "      <td>...</td>\n",
       "      <td>...</td>\n",
       "      <td>...</td>\n",
       "      <td>...</td>\n",
       "      <td>...</td>\n",
       "      <td>...</td>\n",
       "      <td>...</td>\n",
       "      <td>...</td>\n",
       "      <td>...</td>\n",
       "      <td>...</td>\n",
       "      <td>...</td>\n",
       "    </tr>\n",
       "    <tr>\n",
       "      <th>POS2</th>\n",
       "      <th>208</th>\n",
       "      <td>NaN</td>\n",
       "      <td>-120.605554</td>\n",
       "      <td>-1.488820</td>\n",
       "      <td>120.614743</td>\n",
       "      <td>-89.646373</td>\n",
       "      <td>-120.610547</td>\n",
       "      <td>-1.006045</td>\n",
       "      <td>NaN</td>\n",
       "      <td>0.031260</td>\n",
       "      <td>3.876188</td>\n",
       "      <td>...</td>\n",
       "      <td>0.647398</td>\n",
       "      <td>0.504375</td>\n",
       "      <td>0.911635</td>\n",
       "      <td>8</td>\n",
       "      <td>0.066144</td>\n",
       "      <td>0.101679</td>\n",
       "      <td>0.008392</td>\n",
       "      <td>0.008392</td>\n",
       "      <td>0.032260</td>\n",
       "      <td>0.090995</td>\n",
       "    </tr>\n",
       "    <tr>\n",
       "      <th rowspan=\"2\" valign=\"top\">CHIP2</th>\n",
       "      <th>POS1</th>\n",
       "      <th>79</th>\n",
       "      <td>153.0</td>\n",
       "      <td>-0.200699</td>\n",
       "      <td>-0.369060</td>\n",
       "      <td>0.420101</td>\n",
       "      <td>-59.268941</td>\n",
       "      <td>-0.193903</td>\n",
       "      <td>-0.372675</td>\n",
       "      <td>0.005245</td>\n",
       "      <td>0.027293</td>\n",
       "      <td>-16.296551</td>\n",
       "      <td>...</td>\n",
       "      <td>0.656325</td>\n",
       "      <td>-0.739345</td>\n",
       "      <td>0.730013</td>\n",
       "      <td>8</td>\n",
       "      <td>-0.051701</td>\n",
       "      <td>0.050221</td>\n",
       "      <td>0.008392</td>\n",
       "      <td>0.008392</td>\n",
       "      <td>0.039098</td>\n",
       "      <td>0.035824</td>\n",
       "    </tr>\n",
       "    <tr>\n",
       "      <th>POS2</th>\n",
       "      <th>159</th>\n",
       "      <td>NaN</td>\n",
       "      <td>0.117994</td>\n",
       "      <td>-0.147961</td>\n",
       "      <td>0.189248</td>\n",
       "      <td>-25.714335</td>\n",
       "      <td>0.120133</td>\n",
       "      <td>-0.146229</td>\n",
       "      <td>0.014212</td>\n",
       "      <td>0.015464</td>\n",
       "      <td>-0.824469</td>\n",
       "      <td>...</td>\n",
       "      <td>1.407754</td>\n",
       "      <td>-0.815850</td>\n",
       "      <td>-0.453320</td>\n",
       "      <td>8</td>\n",
       "      <td>-0.310623</td>\n",
       "      <td>-0.843624</td>\n",
       "      <td>0.008392</td>\n",
       "      <td>0.008392</td>\n",
       "      <td>0.258662</td>\n",
       "      <td>0.396723</td>\n",
       "    </tr>\n",
       "    <tr>\n",
       "      <th>CHIP1</th>\n",
       "      <th>POS2</th>\n",
       "      <th>99</th>\n",
       "      <td>241.0</td>\n",
       "      <td>-94.222444</td>\n",
       "      <td>0.217858</td>\n",
       "      <td>94.222696</td>\n",
       "      <td>89.933762</td>\n",
       "      <td>-94.131353</td>\n",
       "      <td>-4.147865</td>\n",
       "      <td>0.041330</td>\n",
       "      <td>0.002238</td>\n",
       "      <td>-0.589207</td>\n",
       "      <td>...</td>\n",
       "      <td>0.339164</td>\n",
       "      <td>-2.378193</td>\n",
       "      <td>-0.463047</td>\n",
       "      <td>8</td>\n",
       "      <td>-0.308031</td>\n",
       "      <td>-0.017207</td>\n",
       "      <td>0.008392</td>\n",
       "      <td>0.008392</td>\n",
       "      <td>0.737737</td>\n",
       "      <td>0.008259</td>\n",
       "    </tr>\n",
       "    <tr>\n",
       "      <th>CHIP2</th>\n",
       "      <th>POS2</th>\n",
       "      <th>155</th>\n",
       "      <td>NaN</td>\n",
       "      <td>-6.420582</td>\n",
       "      <td>2.074989</td>\n",
       "      <td>6.747551</td>\n",
       "      <td>81.045160</td>\n",
       "      <td>-6.496294</td>\n",
       "      <td>1.824173</td>\n",
       "      <td>0.014560</td>\n",
       "      <td>0.011982</td>\n",
       "      <td>0.198377</td>\n",
       "      <td>...</td>\n",
       "      <td>1.481293</td>\n",
       "      <td>0.573842</td>\n",
       "      <td>-1.115775</td>\n",
       "      <td>8</td>\n",
       "      <td>0.049996</td>\n",
       "      <td>-0.168392</td>\n",
       "      <td>0.008392</td>\n",
       "      <td>0.008392</td>\n",
       "      <td>0.027857</td>\n",
       "      <td>0.190724</td>\n",
       "    </tr>\n",
       "  </tbody>\n",
       "</table>\n",
       "<p>889 rows × 190 columns</p>\n",
       "</div>"
      ],
      "text/plain": [
       "                     Offset0                                               \\\n",
       "                       obnum          q1        u1       dolp1     phi_l1   \n",
       "CHIP  POS  row_index                                                        \n",
       "CHIP1 POS2 197           NaN   -4.157504  0.118880    4.159203  89.181065   \n",
       "      POS1 164         364.0   -0.003346 -0.008322    0.008970 -55.952098   \n",
       "      POS2 96          233.0    0.003616  0.003155    0.004798  20.551589   \n",
       "           93          230.0    0.008567  0.007817    0.011598  21.189749   \n",
       "      POS1 192         426.0   -0.006650  0.003108    0.007341  77.473077   \n",
       "...                      ...         ...       ...         ...        ...   \n",
       "      POS2 208           NaN -120.605554 -1.488820  120.614743 -89.646373   \n",
       "CHIP2 POS1 79          153.0   -0.200699 -0.369060    0.420101 -59.268941   \n",
       "      POS2 159           NaN    0.117994 -0.147961    0.189248 -25.714335   \n",
       "CHIP1 POS2 99          241.0  -94.222444  0.217858   94.222696  89.933762   \n",
       "CHIP2 POS2 155           NaN   -6.420582  2.074989    6.747551  81.045160   \n",
       "\n",
       "                                                                           \\\n",
       "                         q1prime   u1prime     errq1     erru1         q2   \n",
       "CHIP  POS  row_index                                                        \n",
       "CHIP1 POS2 197         -4.156860  0.139599  0.020194  0.016432  -0.400206   \n",
       "      POS1 164         -0.003466 -0.008273  0.001773  0.001771  -0.002933   \n",
       "      POS2 96           0.003618  0.003152  0.001466  0.001469   0.002537   \n",
       "           93           0.008705  0.007664  0.000370  0.000363  -0.004920   \n",
       "      POS1 192         -0.006629  0.003152  0.003236  0.003264   0.014927   \n",
       "...                          ...       ...       ...       ...        ...   \n",
       "      POS2 208       -120.610547 -1.006045       NaN  0.031260   3.876188   \n",
       "CHIP2 POS1 79          -0.193903 -0.372675  0.005245  0.027293 -16.296551   \n",
       "      POS2 159          0.120133 -0.146229  0.014212  0.015464  -0.824469   \n",
       "CHIP1 POS2 99         -94.131353 -4.147865  0.041330  0.002238  -0.589207   \n",
       "CHIP2 POS2 155         -6.496294  1.824173  0.014560  0.011982   0.198377   \n",
       "\n",
       "                      ... across_offsets                               \\\n",
       "                      ...       avg_phil rotated_q rotated_u ell_bins   \n",
       "CHIP  POS  row_index  ...                                               \n",
       "CHIP1 POS2 197        ...       0.441620  0.109451  0.074506        0   \n",
       "      POS1 164        ...       1.348854 -0.000534  0.001728        0   \n",
       "      POS2 96         ...       0.931377 -0.000722  0.002811        0   \n",
       "           93         ...      -0.072418  0.001245 -0.002900        0   \n",
       "      POS1 192        ...       0.817159  0.000537  0.001656        0   \n",
       "...                   ...            ...       ...       ...      ...   \n",
       "      POS2 208        ...       0.647398  0.504375  0.911635        8   \n",
       "CHIP2 POS1 79         ...       0.656325 -0.739345  0.730013        8   \n",
       "      POS2 159        ...       1.407754 -0.815850 -0.453320        8   \n",
       "CHIP1 POS2 99         ...       0.339164 -2.378193 -0.463047        8   \n",
       "CHIP2 POS2 155        ...       1.481293  0.573842 -1.115775        8   \n",
       "\n",
       "                                                                   \\\n",
       "                     q_x_weights  u_x_weights  binavg_q  binavg_u   \n",
       "CHIP  POS  row_index                                                \n",
       "CHIP1 POS2 197          0.279830     1.142298 -0.000502 -0.000502   \n",
       "      POS1 164        -28.517755    38.548977 -0.000502 -0.000502   \n",
       "      POS2 96         -48.149906   293.878244 -0.000502 -0.000502   \n",
       "           93          95.536068 -3953.186827 -0.000502 -0.000502   \n",
       "      POS1 192          1.690906     8.544007 -0.000502 -0.000502   \n",
       "...                          ...          ...       ...       ...   \n",
       "      POS2 208          0.066144     0.101679  0.008392  0.008392   \n",
       "CHIP2 POS1 79          -0.051701     0.050221  0.008392  0.008392   \n",
       "      POS2 159         -0.310623    -0.843624  0.008392  0.008392   \n",
       "CHIP1 POS2 99          -0.308031    -0.017207  0.008392  0.008392   \n",
       "CHIP2 POS2 155          0.049996    -0.168392  0.008392  0.008392   \n",
       "\n",
       "                                                            \n",
       "                     weighted_q_diff_sq weighted_u_diff_sq  \n",
       "CHIP  POS  row_index                                        \n",
       "CHIP1 POS2 197                 0.030909           0.086260  \n",
       "      POS1 164                 0.000055           0.110960  \n",
       "      POS2 96                  0.003220           1.147639  \n",
       "           93                  0.234227           7.838943  \n",
       "      POS1 192                 0.003400           0.024028  \n",
       "...                                 ...                ...  \n",
       "      POS2 208                 0.032260           0.090995  \n",
       "CHIP2 POS1 79                  0.039098           0.035824  \n",
       "      POS2 159                 0.258662           0.396723  \n",
       "CHIP1 POS2 99                  0.737737           0.008259  \n",
       "CHIP2 POS2 155                 0.027857           0.190724  \n",
       "\n",
       "[889 rows x 190 columns]"
      ]
     },
     "execution_count": 46,
     "metadata": {},
     "output_type": "execute_result"
    }
   ],
   "source": [
    "read_from_store_wrapper(init_df_poldata_filtered.T.reset_index(drop=True).T.to_dict(),rows = init_row_names,cols = init_col_names,levels = 1)"
   ]
  }
 ],
 "metadata": {
  "kernelspec": {
   "display_name": "mrp",
   "language": "python",
   "name": "python3"
  },
  "language_info": {
   "codemirror_mode": {
    "name": "ipython",
    "version": 3
   },
   "file_extension": ".py",
   "mimetype": "text/x-python",
   "name": "python",
   "nbconvert_exporter": "python",
   "pygments_lexer": "ipython3",
   "version": "3.10.11"
  }
 },
 "nbformat": 4,
 "nbformat_minor": 2
}
